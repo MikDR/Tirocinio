{
 "cells": [
  {
   "cell_type": "code",
   "execution_count": 1,
   "metadata": {},
   "outputs": [
    {
     "name": "stdout",
     "output_type": "stream",
     "text": [
      "/bin/bash: line 1: /home/michele/Desktop/Tirocinio_giusto/Tirocinio/.venv/bin/pip: cannot execute: required file not found\n",
      "/bin/bash: line 1: /home/michele/Desktop/Tirocinio_giusto/Tirocinio/.venv/bin/pip: cannot execute: required file not found\n"
     ]
    }
   ],
   "source": [
    "!pip install galois\n",
    "!pip install scipy"
   ]
  },
  {
   "cell_type": "code",
   "execution_count": 1,
   "metadata": {},
   "outputs": [],
   "source": [
    "import galois\n",
    "import numpy as np\n",
    "import time\n",
    "import os\n",
    "from scipy import stats"
   ]
  },
  {
   "cell_type": "code",
   "execution_count": 2,
   "metadata": {},
   "outputs": [],
   "source": [
    "#definisco un campo di Galois come nell'esempio \n",
    "field = galois.GF(5)"
   ]
  },
  {
   "cell_type": "code",
   "execution_count": 3,
   "metadata": {},
   "outputs": [],
   "source": [
    "#definisco una matrice k x (n-k)\n",
    "k = 3 #le righe\n",
    "n_k = 4 #le colonne\n",
    "\n",
    "#N.B: Less usa q = dimensione campo: 127; k = 126; n = 252 visto da pdf myLESS_CF pagina 38 di 45"
   ]
  },
  {
   "cell_type": "code",
   "execution_count": 4,
   "metadata": {},
   "outputs": [],
   "source": [
    "#questa è con l'esempio di 4.4\n",
    "A = field([[2, 3, 1, 1],\n",
    "           [2, 1, 1, 1],\n",
    "           [1, 0, 3, 4]])"
   ]
  },
  {
   "cell_type": "code",
   "execution_count": 55,
   "metadata": {},
   "outputs": [
    {
     "name": "stdout",
     "output_type": "stream",
     "text": [
      "[[3 4 1 0]\n",
      " [3 0 2 3]\n",
      " [3 3 1 2]]\n"
     ]
    }
   ],
   "source": [
    "A = field(np.random.randint(0, field.order, size=(k, n_k)))\n",
    "print(A)"
   ]
  },
  {
   "cell_type": "code",
   "execution_count": 5,
   "metadata": {},
   "outputs": [],
   "source": [
    "matrix_bin1 = np.array([\n",
    "    [0, 1, 0],\n",
    "    [1, 0, 0],\n",
    "    [0, 0, 1]\n",
    "])\n",
    "\n",
    "matrix_bin1 = field(matrix_bin1)\n",
    "\n",
    "matrix_bin2 = np.array([\n",
    "    [0, 0, 0, 1],\n",
    "    [0, 1, 0, 0],\n",
    "    [1, 0, 0, 0],\n",
    "    [0, 0, 1, 0]\n",
    "])\n",
    "\n",
    "matrix_bin2 = field(matrix_bin2)\n",
    "\n",
    "matrix_diag = np.array([\n",
    "    [4, 0, 0],\n",
    "    [0, 1, 0],\n",
    "    [0, 0, 3]\n",
    "])\n",
    "\n",
    "matrix_diag = field(matrix_diag)"
   ]
  },
  {
   "cell_type": "code",
   "execution_count": 6,
   "metadata": {},
   "outputs": [
    {
     "name": "stdout",
     "output_type": "stream",
     "text": [
      "[[1 1 1 2]\n",
      " [4 2 4 3]\n",
      " [4 0 2 3]]\n"
     ]
    }
   ],
   "source": [
    "A_primo = field(matrix_bin1 @ matrix_diag @ A @ matrix_bin2)\n",
    "print(A_primo)"
   ]
  },
  {
   "cell_type": "code",
   "execution_count": 7,
   "metadata": {},
   "outputs": [],
   "source": [
    "#number of iteration for Montecarlo simulatiom\n",
    "num_iterazioni = 2500"
   ]
  },
  {
   "cell_type": "code",
   "execution_count": 9,
   "metadata": {},
   "outputs": [],
   "source": [
    "def has_duplicate_rows(matrix):\n",
    "    _, counts = np.unique(matrix, axis=0, return_counts=True)\n",
    "    return np.any(counts > 1)\n",
    "\n",
    "#initial matrix x matrix with s or s^(-1)\n",
    "def make_matrix_xS(matrix, error_counter, field_order):\n",
    "    matrix_S = field(np.zeros((k, k), dtype = int))\n",
    "    for i, row in enumerate(matrix):\n",
    "        print(\"iter:\", i)\n",
    "        #print(\"Type row: \", type(row)) IS GALOIS (CONFIRMED)\n",
    "        #bp.bincout count frequency of element in row\n",
    "        s = np.sum(row)\n",
    "        print(s)\n",
    "        s_prime = np.sum(row ** (field_order-2))\n",
    "        print(s_prime)\n",
    "        if s == 0 and s_prime == 0:\n",
    "            print(\"esco\")\n",
    "            return 0\n",
    "        elif s != 0:\n",
    "            matrix_S[i,i] = np.reciprocal(s)\n",
    "            print(type(matrix_S))\n",
    "        else:\n",
    "            matrix_S[i,i] = s_prime\n",
    "    \n",
    "    #print(\"Matrix_S:\", matrix_S)\n",
    "    matrix = matrix_S @ matrix\n",
    "    print(type(matrix), matrix)\n",
    "    return matrix\n",
    "\n",
    "# order by count number of 0, 1, ..., q in a vector (dictionary). A multiset1 < multiset2 if number of 0 > number of 0 of \n",
    "# second multiset. If the number of 0 is the same check number of 1 and so on\n",
    "def order_row(matrix, error_counter, field_order, max_column):  \n",
    "    start = time.perf_counter()#this is for make file csv dati_differences_upd2 and only count/ord\n",
    "    vector_of_counts = np.zeros((matrix.shape[0], field.order + 1), dtype = int)\n",
    "    n_colonne = matrix.shape[1]  \n",
    "    #start = time.perf_counter()\n",
    "    \n",
    "    #for row in matrix:\n",
    "    for i, row in enumerate(matrix):\n",
    "        #bp.bincout count frequency of element in row\n",
    "        vector_of_counts[i] = np.bincount(row, minlength = field.order + 1)\n",
    "    end = time.perf_counter() #these 2 for file only count/ord\n",
    "    duration = (end - start) * 1000\n",
    "    #vector_of_counts = np.array(vector_of_counts)\n",
    "    if has_duplicate_rows(vector_of_counts):\n",
    "        error_counter += 1\n",
    "        #print(vector_of_counts)\n",
    "        print(\"Duplicated rows all columns\",error_counter)\n",
    "        return [], 0, 0, [], 0, 0, error_counter\n",
    "    \n",
    "    sorted_index = np.lexsort([vector_of_counts[:, i] for i in range(n_colonne, -1, -1)])[::-1]\n",
    "    #end = time.perf_counter() #these 2 for make file csv dati_differences_upd2\n",
    "    #duration = (end - start) * 1000    \n",
    "    return matrix[sorted_index], duration, 0, [], 0, 0, error_counter\n",
    "    \n",
    "\n",
    "# order column as always\n",
    "def sort_by_column(matrix, rows, num_swap_columns):\n",
    "    print(\"Funzione ordina per colonna\")\n",
    "    print(type(matrix), matrix)\n",
    "    #tengo posizioni originali per confrontarle con quelle cambiate e quindi vedere quanti swap di riga ho fatto\n",
    "    initial_position = np.arange(matrix.shape[1])\n",
    "    \n",
    "    # Trova gli indici di ordinamento usando np.lexsort sulle righe, se c'è conflitto passa a el seconda riga\n",
    "    sorting_indices = np.lexsort([matrix[row, :] for row in rows[::-1]])\n",
    "        \n",
    "    # Conta gli swap solo quando la posizione delle colonne cambia\n",
    "    for i, index in enumerate(sorting_indices):\n",
    "        if index != initial_position[i]:\n",
    "            num_swap_columns += 1\n",
    "    \n",
    "    #riordina la matrice in base agli indici trovati\n",
    "    sorted_matrix = matrix[:, sorting_indices]\n",
    "    return sorted_matrix, num_swap_columns\n",
    "\n",
    "def algorithm_test(matrix1, matrix2):\n",
    "    row1_sort = order_row(matrix1, 0, field.order, 4)[0]\n",
    "    print(\"Ordinato\\n\", row1_sort)\n",
    "    matrix1_sorted = sort_by_column(row1_sort, range(k), 0)\n",
    "    print(matrix1_sorted)\n",
    "\n",
    "    row2_sort = order_row(matrix2, 0, field.order, 4)[0]\n",
    "    print(row2_sort)\n",
    "    matrix2_sorted = sort_by_column(row2_sort, range(k), 0)\n",
    "    print(matrix2_sorted)\n",
    "\n",
    "    #[0] because retur an array with 2 elements\n",
    "    return np.array_equal(matrix1_sorted[0], matrix2_sorted[0])\n",
    "\n"
   ]
  },
  {
   "cell_type": "code",
   "execution_count": 10,
   "metadata": {},
   "outputs": [
    {
     "name": "stdout",
     "output_type": "stream",
     "text": [
      "iter: 0\n",
      "1\n",
      "4\n",
      "<class 'galois.GF(5)'>\n",
      "iter: 1\n",
      "0\n",
      "1\n",
      "iter: 2\n",
      "1\n",
      "1\n",
      "<class 'galois.GF(5)'>\n",
      "<class 'galois.GF(5)'> [[1 4 3 3]\n",
      " [2 1 1 1]\n",
      " [2 0 1 3]]\n",
      "[[1 4 3 3]\n",
      " [2 1 1 1]\n",
      " [2 0 1 3]]\n",
      "iter: 0\n",
      "0\n",
      "1\n",
      "iter: 1\n",
      "1\n",
      "4\n",
      "<class 'galois.GF(5)'>\n",
      "iter: 2\n",
      "1\n",
      "1\n",
      "<class 'galois.GF(5)'>\n",
      "<class 'galois.GF(5)'> [[1 1 1 2]\n",
      " [3 4 3 1]\n",
      " [1 0 3 2]]\n",
      "Ordinato\n",
      " [[2 0 1 3]\n",
      " [2 1 1 1]\n",
      " [1 4 3 3]]\n",
      "Funzione ordina per colonna\n",
      "<class 'galois.GF(5)'> [[2 0 1 3]\n",
      " [2 1 1 1]\n",
      " [1 4 3 3]]\n",
      "(GF([[0, 1, 2, 3],\n",
      "    [1, 1, 2, 1],\n",
      "    [4, 3, 1, 3]], order=5), 3)\n",
      "[[1 0 3 2]\n",
      " [1 1 1 2]\n",
      " [3 4 3 1]]\n",
      "Funzione ordina per colonna\n",
      "<class 'galois.GF(5)'> [[1 0 3 2]\n",
      " [1 1 1 2]\n",
      " [3 4 3 1]]\n",
      "(GF([[0, 1, 2, 3],\n",
      "    [1, 1, 2, 1],\n",
      "    [4, 3, 1, 3]], order=5), 4)\n"
     ]
    },
    {
     "data": {
      "text/plain": [
       "True"
      ]
     },
     "execution_count": 10,
     "metadata": {},
     "output_type": "execute_result"
    }
   ],
   "source": [
    "A = make_matrix_xS(A, 0, field.order)\n",
    "print(A)\n",
    "A_primo = make_matrix_xS(A_primo, 0, field.order)\n",
    "algorithm_test(A, A_primo)"
   ]
  }
 ],
 "metadata": {
  "kernelspec": {
   "display_name": ".venv",
   "language": "python",
   "name": "python3"
  },
  "language_info": {
   "codemirror_mode": {
    "name": "ipython",
    "version": 3
   },
   "file_extension": ".py",
   "mimetype": "text/x-python",
   "name": "python",
   "nbconvert_exporter": "python",
   "pygments_lexer": "ipython3",
   "version": "3.11.2"
  }
 },
 "nbformat": 4,
 "nbformat_minor": 2
}
