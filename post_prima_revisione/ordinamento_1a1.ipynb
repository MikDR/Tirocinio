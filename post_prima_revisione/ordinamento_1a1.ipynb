{
 "cells": [
  {
   "cell_type": "code",
   "execution_count": 1,
   "metadata": {},
   "outputs": [
    {
     "name": "stdout",
     "output_type": "stream",
     "text": [
      "Requirement already satisfied: galois in /home/michele/Desktop/Tirocinio/.venv/lib/python3.11/site-packages (0.4.2)\n",
      "Requirement already satisfied: numpy<2.2,>=1.21.0 in /home/michele/Desktop/Tirocinio/.venv/lib/python3.11/site-packages (from galois) (2.0.2)\n",
      "Requirement already satisfied: numba<0.61,>=0.55 in /home/michele/Desktop/Tirocinio/.venv/lib/python3.11/site-packages (from galois) (0.60.0)\n",
      "Requirement already satisfied: typing-extensions>=4.0.0 in /home/michele/Desktop/Tirocinio/.venv/lib/python3.11/site-packages (from galois) (4.12.2)\n",
      "Requirement already satisfied: llvmlite<0.44,>=0.43.0dev0 in /home/michele/Desktop/Tirocinio/.venv/lib/python3.11/site-packages (from numba<0.61,>=0.55->galois) (0.43.0)\n",
      "Note: you may need to restart the kernel to use updated packages.\n"
     ]
    }
   ],
   "source": [
    "pip install galois"
   ]
  },
  {
   "cell_type": "code",
   "execution_count": 2,
   "metadata": {},
   "outputs": [],
   "source": [
    "import galois\n",
    "import numpy as np\n",
    "import time"
   ]
  },
  {
   "cell_type": "code",
   "execution_count": 3,
   "metadata": {},
   "outputs": [],
   "source": [
    "#definisco un campo di Galois come nell'esempio \n",
    "field = galois.GF(2**3)"
   ]
  },
  {
   "cell_type": "code",
   "execution_count": 4,
   "metadata": {},
   "outputs": [],
   "source": [
    "#definisco una matrice k x (n-k) dove n-k = 4\n",
    "k = 3 #le righe\n",
    "n_k = 4 #le colonne\n",
    "\n",
    "#N.B: Less usa q = dimensione campo: 127; k = 126; n = 252 "
   ]
  },
  {
   "cell_type": "code",
   "execution_count": 5,
   "metadata": {},
   "outputs": [],
   "source": [
    "#ho verificato che funziona pure con i random\n",
    "#A = field.Random((k, n_k))\n",
    "#print(A)\n",
    "\n",
    "#questa è con l'esempio di 4.3\n",
    "A = field([[1,2,4,7],\n",
    "           [0,2,3,1],\n",
    "           [2,3,2,0]])"
   ]
  },
  {
   "cell_type": "code",
   "execution_count": 6,
   "metadata": {},
   "outputs": [],
   "source": [
    "matrice_bin1 = np.array([\n",
    "    [0, 0, 1],\n",
    "    [1, 0, 0],\n",
    "    [0, 1, 0]\n",
    "])\n",
    "\n",
    "matrice_bin1 = field(matrice_bin1)\n",
    "\n",
    "matrice_bin2 = np.array([\n",
    "    [1, 0, 0, 0],\n",
    "    [0, 0, 1, 0],\n",
    "    [0, 0, 0, 1],\n",
    "    [0, 1, 0, 0]\n",
    "])\n",
    "\n",
    "matrice_bin2 = field(matrice_bin2)"
   ]
  },
  {
   "cell_type": "code",
   "execution_count": 7,
   "metadata": {},
   "outputs": [
    {
     "name": "stdout",
     "output_type": "stream",
     "text": [
      "[[2 0 3 2]\n",
      " [1 7 2 4]\n",
      " [0 1 2 3]]\n"
     ]
    }
   ],
   "source": [
    "A_primo = field(matrice_bin1 @ A @ matrice_bin2)\n",
    "print(A_primo)"
   ]
  },
  {
   "cell_type": "code",
   "execution_count": 8,
   "metadata": {},
   "outputs": [],
   "source": [
    "A_primo = field([[2,2,0,3],\n",
    "           [1,4,7,2],\n",
    "           [0,3,1,2]])"
   ]
  },
  {
   "cell_type": "code",
   "execution_count": 9,
   "metadata": {},
   "outputs": [],
   "source": [
    "#definito funzione ordinamento lessicografico riga (ordino ogni riga e definisco ordine degli indici) e gestiti casi di \n",
    "#conflitto. L'argomento colonne è quello che ci indica in che ordine verificare i conflitti \n",
    "#ex: colonne=[0,1,2] --> ordino per colonna 0, se c'è conflitto tra due vedo la colonna 1 e cosi via\n",
    "\n",
    "#faccio ordinamento crescente dei valori all'interno della riga e torno matrice con righe ordinate (ordinato).\n",
    "#da questa matrice faccio l'ordinamento elemento a elemento posizionale corrispondente e definisco quindi gli indici \n",
    "#riordinati. ex: [1 0 2] --> prima la riga ORIGINALE 1 poi riga ORIGINALE 0 e così via. Per originale intendo \"matrice\"\n",
    "\n",
    "def ordina_per_riga(matrice, colonne):\n",
    "    ordinato = []\n",
    "    for riga in matrice:\n",
    "        ordinato.append(np.sort(riga))\n",
    "        \n",
    "    ordinato = np.array(ordinato)\n",
    "    \n",
    "    #inverto ordine colonne [::-1] poiché lexsort parte dall'ultima colonna\n",
    "    indici_ordinamento = np.lexsort([ordinato[:, col] for col in colonne[::-1]])\n",
    "    print(\"\\n\",indici_ordinamento)\n",
    "    print(\"Matrice ordinata per righe: \",matrice[indici_ordinamento])\n",
    "    return matrice[indici_ordinamento]\n",
    "\n",
    "#ordino poi per il primo elemento della colonna e in caso di conflitti li ho gestiti. \n",
    "def ordina_per_colonna(matrice, righe):\n",
    "    indici_ordinamento = np.lexsort([matrice[rig, :] for rig in righe[::-1]])\n",
    "    return matrice[:, indici_ordinamento]\n",
    "\n",
    "#qui faccio il test\n",
    "def test_uguaglianza(matrice1, matrice2):\n",
    "    colonne = range(n_k)\n",
    "    righe = range(k)\n",
    "    print(\"Matrice1: \", matrice1)\n",
    "\n",
    "    ordinata1 = ordina_per_colonna(ordina_per_riga(matrice1, colonne), righe)\n",
    "    print(\"\\nOrdinata 1: \",ordinata1)\n",
    "\n",
    "    print(\"Matrice2: \", matrice2)\n",
    "    ordinata2 = ordina_per_colonna(ordina_per_riga(matrice2, colonne), righe)\n",
    "    print(\"\\nOrdinata2: \",ordinata2)     \n",
    "\n",
    "    if np.array_equal(ordinata1, ordinata2):\n",
    "        print(\"Le due matrici hanno la stessa CF.\")\n",
    "        return True\n",
    "    else:\n",
    "        print(\"Le due matrici hanno CF diversa\")\n",
    "        return False   \n",
    "\n"
   ]
  },
  {
   "cell_type": "code",
   "execution_count": 10,
   "metadata": {},
   "outputs": [
    {
     "name": "stdout",
     "output_type": "stream",
     "text": [
      "Matrice1:  [[1 2 4 7]\n",
      " [0 2 3 1]\n",
      " [2 3 2 0]]\n",
      "\n",
      " [1 2 0]\n",
      "Matrice ordinata per righe:  [[0 2 3 1]\n",
      " [2 3 2 0]\n",
      " [1 2 4 7]]\n",
      "\n",
      "Ordinata 1:  [[0 1 2 3]\n",
      " [2 0 3 2]\n",
      " [1 7 2 4]]\n",
      "Matrice2:  [[2 2 0 3]\n",
      " [1 4 7 2]\n",
      " [0 3 1 2]]\n",
      "\n",
      " [2 0 1]\n",
      "Matrice ordinata per righe:  [[0 3 1 2]\n",
      " [2 2 0 3]\n",
      " [1 4 7 2]]\n",
      "\n",
      "Ordinata2:  [[0 1 2 3]\n",
      " [2 0 3 2]\n",
      " [1 7 2 4]]\n",
      "Le due matrici hanno la stessa CF.\n"
     ]
    },
    {
     "data": {
      "text/plain": [
       "True"
      ]
     },
     "execution_count": 10,
     "metadata": {},
     "output_type": "execute_result"
    }
   ],
   "source": [
    "test_uguaglianza(A, A_primo)"
   ]
  },
  {
   "cell_type": "code",
   "execution_count": 22,
   "metadata": {},
   "outputs": [
    {
     "name": "stdout",
     "output_type": "stream",
     "text": [
      "\n",
      "Tempo esecuzione medio: 0.21942467909639163 ms\n",
      "Numero medio di swap righe: 1.9664800204545845\n",
      "Numero medio di swap colonne: 3.865996999571585\n",
      "Numero totale di test positivi: 0\n"
     ]
    }
   ],
   "source": [
    "#FACCIO METODO DI MONTECARLO\n",
    "#numero iterazioni Monte Carlo\n",
    "num_iterazioni = 10000  \n",
    "\n",
    "# Funzione per generare matrici binarie casuali\n",
    "def genera_matrice_binaria(dimensioni, campo):\n",
    "    matrice_binaria = np.random.randint(0, 2, size=dimensioni)\n",
    "    return campo(matrice_binaria)\n",
    "\n",
    "# Funzione per ordinare le righe con contatori di ordinamenti e swap\n",
    "def ordina_per_riga_con_contatori(matrice, colonne, num_swap_righe):\n",
    "    # Mantieni traccia della posizione originale delle righe\n",
    "    posizioni_originali = np.arange(matrice.shape[0])\n",
    "    \n",
    "    # Ordina gli elementi all'interno di ogni riga\n",
    "    ordinato = []\n",
    "    for riga in matrice:\n",
    "        ordinato.append(np.sort(riga))\n",
    "    \n",
    "    ordinato = np.array(ordinato)\n",
    "    \n",
    "    # Trova gli indici di ordinamento usando np.lexsort sulle colonne\n",
    "    indici_ordinamento = np.lexsort([ordinato[:, col] for col in colonne[::-1]])\n",
    "    \n",
    "    # Conta gli swap solo quando la posizione delle righe cambia\n",
    "    for i, indice in enumerate(indici_ordinamento):\n",
    "        if indice != posizioni_originali[i]:\n",
    "            num_swap_righe += 1\n",
    "    \n",
    "    # Riordina la matrice in base agli indici trovati\n",
    "    matrice_ordinata = matrice[indici_ordinamento]\n",
    "    \n",
    "    return matrice_ordinata, num_swap_righe/2\n",
    "\n",
    "# Funzione per ordinare le colonne con contatori di ordinamenti e swap\n",
    "def ordina_per_colonna_con_contatori(matrice, righe, num_swap_colonne):\n",
    "    # Mantieni traccia della posizione originale delle colonne\n",
    "    posizioni_originali = np.arange(matrice.shape[1])\n",
    "    \n",
    "    # Trova gli indici di ordinamento usando np.lexsort sulle righe\n",
    "    indici_ordinamento = np.lexsort([matrice[rig, :] for rig in righe[::-1]])\n",
    "        \n",
    "    # Conta gli swap solo quando la posizione delle colonne cambia\n",
    "    for i, indice in enumerate(indici_ordinamento):\n",
    "        if indice != posizioni_originali[i]:\n",
    "            num_swap_colonne += 1\n",
    "    \n",
    "    # Riordina la matrice in base agli indici trovati\n",
    "    matrice_ordinata = matrice[:, indici_ordinamento]\n",
    "    # Faccio num_swap_colonne/2 poichè contando il numero di diversi ne conta ovviamente il doppio. \n",
    "    # Ex: (0, 1, 2, 3) potrebbe diventare (0, 1, 3, 2) il contatore sarebbe a due, ma io ho fatto uno swap\n",
    "    return matrice_ordinata, num_swap_colonne/2\n",
    "\n",
    "# Funzione test con contatori\n",
    "def test_uguaglianza_con_contatori(matrice1, matrice2, num_swap_righe, num_swap_colonne):\n",
    "    start_time = time.perf_counter()\n",
    "    #intervallo per le colonne\n",
    "    colonne = range(n_k)  \n",
    "    #intervallo corretto per le righe\n",
    "    righe = range(k)      \n",
    "    # Ordinamento matrice1\n",
    "    ordinata1, num_swap_righe = ordina_per_riga_con_contatori(matrice1, colonne, num_swap_righe)\n",
    "    ordinata1, num_swap_colonne = ordina_per_colonna_con_contatori(ordinata1, righe, num_swap_colonne)\n",
    "    \n",
    "    # Ordinamento matrice2\n",
    "    ordinata2, num_swap_righe = ordina_per_riga_con_contatori(matrice2, colonne, num_swap_righe)\n",
    "    ordinata2, num_swap_colonne = ordina_per_colonna_con_contatori(ordinata2, righe, num_swap_colonne)\n",
    "    end_time = time.perf_counter()\n",
    "    durata = (end_time - start_time)*1000\n",
    "    # Confronto\n",
    "    return np.array_equal(ordinata1, ordinata2), num_swap_righe, num_swap_colonne, durata\n",
    "\n",
    "# Funzione per eseguire la simulazione di Monte Carlo\n",
    "def simulazione_montecarlo(num_iterazioni):\n",
    "    #contatore simulazioni positive\n",
    "    simulazioni_positive = 0\n",
    "    #contatore swap righe\n",
    "    num_swap_righe = 0  \n",
    "    #contatore swap colonne\n",
    "    num_swap_colonne = 0  \n",
    "    #inizializzo la durata\n",
    "    tempo_esecuzione = 0.0\n",
    "    \n",
    "    for _ in range(num_iterazioni):\n",
    "    \n",
    "        A = field(np.random.randint(0, field.order, size=(k, n_k)))\n",
    "        matrice_bin1 = genera_matrice_binaria((k, k), field)\n",
    "        matrice_bin2 = genera_matrice_binaria((n_k, n_k), field)\n",
    "\n",
    "        A_primo = field(matrice_bin1 @ A @ matrice_bin2)\n",
    "\n",
    "        #faccio il test di uguaglianza tra A e A_primo\n",
    "        uguaglianza, num_swap_righe, num_swap_colonne, durata = test_uguaglianza_con_contatori(A, A_primo, num_swap_righe, num_swap_colonne)\n",
    "        tempo_esecuzione += durata\n",
    "        if uguaglianza:\n",
    "            simulazioni_positive += 1\n",
    "    \n",
    "    # Output statistiche\n",
    "    print()\n",
    "    print(f\"Tempo esecuzione medio: {tempo_esecuzione/num_iterazioni} ms\")\n",
    "    print(f\"Numero medio di swap righe: {num_swap_righe}\")\n",
    "    print(f\"Numero medio di swap colonne: {num_swap_colonne}\")\n",
    "    print(f\"Numero totale di test positivi: {simulazioni_positive}\")\n",
    "\n",
    "# Esegui la simulazione\n",
    "simulazione_montecarlo(num_iterazioni)\n"
   ]
  }
 ],
 "metadata": {
  "kernelspec": {
   "display_name": ".venv",
   "language": "python",
   "name": "python3"
  },
  "language_info": {
   "codemirror_mode": {
    "name": "ipython",
    "version": 3
   },
   "file_extension": ".py",
   "mimetype": "text/x-python",
   "name": "python",
   "nbconvert_exporter": "python",
   "pygments_lexer": "ipython3",
   "version": "3.11.2"
  }
 },
 "nbformat": 4,
 "nbformat_minor": 2
}
