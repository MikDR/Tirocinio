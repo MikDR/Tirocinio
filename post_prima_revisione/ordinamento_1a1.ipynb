{
 "cells": [
  {
   "cell_type": "code",
   "execution_count": 207,
   "metadata": {},
   "outputs": [
    {
     "name": "stdout",
     "output_type": "stream",
     "text": [
      "Requirement already satisfied: galois in /home/michele/Desktop/Tirocinio/.venv/lib/python3.11/site-packages (0.4.2)\n",
      "Requirement already satisfied: numpy<2.2,>=1.21.0 in /home/michele/Desktop/Tirocinio/.venv/lib/python3.11/site-packages (from galois) (2.0.2)\n",
      "Requirement already satisfied: numba<0.61,>=0.55 in /home/michele/Desktop/Tirocinio/.venv/lib/python3.11/site-packages (from galois) (0.60.0)\n",
      "Requirement already satisfied: typing-extensions>=4.0.0 in /home/michele/Desktop/Tirocinio/.venv/lib/python3.11/site-packages (from galois) (4.12.2)\n",
      "Requirement already satisfied: llvmlite<0.44,>=0.43.0dev0 in /home/michele/Desktop/Tirocinio/.venv/lib/python3.11/site-packages (from numba<0.61,>=0.55->galois) (0.43.0)\n",
      "Note: you may need to restart the kernel to use updated packages.\n"
     ]
    }
   ],
   "source": [
    "pip install galois"
   ]
  },
  {
   "cell_type": "code",
   "execution_count": 208,
   "metadata": {},
   "outputs": [],
   "source": [
    "import galois\n",
    "import numpy as np\n",
    "import time"
   ]
  },
  {
   "cell_type": "code",
   "execution_count": 209,
   "metadata": {},
   "outputs": [],
   "source": [
    "#definisco un campo di Galois come nell'esempio \n",
    "field = galois.GF(2**3)"
   ]
  },
  {
   "cell_type": "code",
   "execution_count": 210,
   "metadata": {},
   "outputs": [],
   "source": [
    "#definisco una matrice k x (n-k) dove n-k = 4\n",
    "k = 3 #le righe\n",
    "n_k = 4 #le colonne\n",
    "\n",
    "#N.B: Less usa q = dimensione campo: 127; k = 126; n = 252 "
   ]
  },
  {
   "cell_type": "code",
   "execution_count": 211,
   "metadata": {},
   "outputs": [],
   "source": [
    "#ho verificato che funziona pure con i random\n",
    "#A = field.Random((k, n_k))\n",
    "#print(A)\n",
    "\n",
    "#questa è con l'esempio di 4.3\n",
    "A = field([[1,2,4,7],\n",
    "           [0,2,3,1],\n",
    "           [2,3,2,0]])"
   ]
  },
  {
   "cell_type": "code",
   "execution_count": 212,
   "metadata": {},
   "outputs": [],
   "source": [
    "matrice_bin1 = np.array([\n",
    "    [0, 0, 1],\n",
    "    [1, 0, 0],\n",
    "    [0, 1, 0]\n",
    "])\n",
    "\n",
    "matrice_bin1 = field(matrice_bin1)\n",
    "\n",
    "matrice_bin2 = np.array([\n",
    "    [1, 0, 0, 0],\n",
    "    [0, 0, 1, 0],\n",
    "    [0, 0, 0, 1],\n",
    "    [0, 1, 0, 0]\n",
    "])\n",
    "\n",
    "matrice_bin2 = field(matrice_bin2)"
   ]
  },
  {
   "cell_type": "code",
   "execution_count": 213,
   "metadata": {},
   "outputs": [
    {
     "name": "stdout",
     "output_type": "stream",
     "text": [
      "[[2 0 3 2]\n",
      " [1 7 2 4]\n",
      " [0 1 2 3]]\n"
     ]
    }
   ],
   "source": [
    "A_primo = field(matrice_bin1 @ A @ matrice_bin2)\n",
    "print(A_primo)"
   ]
  },
  {
   "cell_type": "code",
   "execution_count": 214,
   "metadata": {},
   "outputs": [],
   "source": [
    "A_primo = field([[2,2,0,3],\n",
    "           [1,4,7,2],\n",
    "           [0,3,1,2]])"
   ]
  },
  {
   "cell_type": "code",
   "execution_count": 215,
   "metadata": {},
   "outputs": [],
   "source": [
    "#definito funzione ordinamento lessicografico riga (ordino ogni riga e definisco ordine degli indici) e gestiti casi di \n",
    "#conflitto. L'argomento colonne è quello che ci indica in che ordine verificare i conflitti \n",
    "#ex: colonne=[0,1,2] --> ordino per colonna 0, se c'è conflitto tra due vedo la colonna 1 e cosi via\n",
    "\n",
    "#faccio ordinamento crescente dei valori all'interno della riga e torno matrice con righe ordinate (ordinato).\n",
    "#da questa matrice faccio l'ordinamento elemento a elemento posizionale corrispondente e definisco quindi gli indici \n",
    "#riordinati. ex: [1 0 2] --> prima la riga ORIGINALE 1 poi riga ORIGINALE 0 e così via. Per originale intendo \"matrice\"\n",
    "\n",
    "def ordina_per_riga(matrice, colonne):\n",
    "    ordinato = []\n",
    "    for riga in matrice:\n",
    "        ordinato.append(np.sort(riga))\n",
    "        \n",
    "    ordinato = np.array(ordinato)\n",
    "    \n",
    "    #inverto ordine colonne [::-1] poiché lexsort parte dall'ultima colonna\n",
    "    indici_ordinamento = np.lexsort([ordinato[:, col] for col in colonne[::-1]])\n",
    "    print(\"\\n\",indici_ordinamento)\n",
    "    print(\"Matrice ordinata per righe: \",matrice[indici_ordinamento])\n",
    "    return matrice[indici_ordinamento]\n",
    "\n",
    "#ordino poi per il primo elemento della colonna e in caso di conflitti li ho gestiti. \n",
    "def ordina_per_colonna(matrice, righe):\n",
    "    indici_ordinamento = np.lexsort([matrice[rig, :] for rig in righe[::-1]])\n",
    "    return matrice[:, indici_ordinamento]\n",
    "\n",
    "#qui faccio il test\n",
    "def test_uguaglianza(matrice1, matrice2):\n",
    "    colonne = range(n_k)\n",
    "    righe = range(k)\n",
    "    print(\"Matrice1: \", matrice1)\n",
    "\n",
    "    ordinata1 = ordina_per_colonna(ordina_per_riga(matrice1, colonne), righe)\n",
    "    print(\"\\nOrdinata 1: \",ordinata1)\n",
    "\n",
    "    print(\"Matrice2: \", matrice2)\n",
    "    ordinata2 = ordina_per_colonna(ordina_per_riga(matrice2, colonne), righe)\n",
    "    print(\"\\nOrdinata2: \",ordinata2)     \n",
    "\n",
    "    if np.array_equal(ordinata1, ordinata2):\n",
    "        print(\"Le due matrici hanno la stessa CF.\")\n",
    "        return True\n",
    "    else:\n",
    "        print(\"Le due matrici hanno CF diversa\")\n",
    "        return False   \n",
    "\n"
   ]
  },
  {
   "cell_type": "code",
   "execution_count": 216,
   "metadata": {},
   "outputs": [
    {
     "name": "stdout",
     "output_type": "stream",
     "text": [
      "Matrice1:  [[1 2 4 7]\n",
      " [0 2 3 1]\n",
      " [2 3 2 0]]\n",
      "\n",
      " [1 2 0]\n",
      "Matrice ordinata per righe:  [[0 2 3 1]\n",
      " [2 3 2 0]\n",
      " [1 2 4 7]]\n",
      "\n",
      "Ordinata 1:  [[0 1 2 3]\n",
      " [2 0 3 2]\n",
      " [1 7 2 4]]\n",
      "Matrice2:  [[2 2 0 3]\n",
      " [1 4 7 2]\n",
      " [0 3 1 2]]\n",
      "\n",
      " [2 0 1]\n",
      "Matrice ordinata per righe:  [[0 3 1 2]\n",
      " [2 2 0 3]\n",
      " [1 4 7 2]]\n",
      "\n",
      "Ordinata2:  [[0 1 2 3]\n",
      " [2 0 3 2]\n",
      " [1 7 2 4]]\n",
      "Le due matrici hanno la stessa CF.\n"
     ]
    },
    {
     "data": {
      "text/plain": [
       "True"
      ]
     },
     "execution_count": 216,
     "metadata": {},
     "output_type": "execute_result"
    }
   ],
   "source": [
    "test_uguaglianza(A, A_primo)"
   ]
  }
 ],
 "metadata": {
  "kernelspec": {
   "display_name": ".venv",
   "language": "python",
   "name": "python3"
  },
  "language_info": {
   "codemirror_mode": {
    "name": "ipython",
    "version": 3
   },
   "file_extension": ".py",
   "mimetype": "text/x-python",
   "name": "python",
   "nbconvert_exporter": "python",
   "pygments_lexer": "ipython3",
   "version": "3.11.2"
  }
 },
 "nbformat": 4,
 "nbformat_minor": 2
}
