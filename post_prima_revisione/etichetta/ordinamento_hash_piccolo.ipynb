{
 "cells": [
  {
   "cell_type": "code",
   "execution_count": 1,
   "metadata": {},
   "outputs": [
    {
     "name": "stdout",
     "output_type": "stream",
     "text": [
      "/bin/bash: line 1: /home/michele/Desktop/Tirocinio_giusto/Tirocinio/.venv/bin/pip: cannot execute: required file not found\n",
      "/bin/bash: line 1: /home/michele/Desktop/Tirocinio_giusto/Tirocinio/.venv/bin/pip: cannot execute: required file not found\n"
     ]
    }
   ],
   "source": [
    "!pip install galois\n",
    "!pip install scipy"
   ]
  },
  {
   "cell_type": "code",
   "execution_count": 2,
   "metadata": {},
   "outputs": [],
   "source": [
    "import galois\n",
    "import numpy as np\n",
    "import time\n",
    "import os\n",
    "from scipy import stats"
   ]
  },
  {
   "cell_type": "code",
   "execution_count": 3,
   "metadata": {},
   "outputs": [],
   "source": [
    "#definisco un campo di Galois come nell'esempio \n",
    "field = galois.GF(2**3)"
   ]
  },
  {
   "cell_type": "code",
   "execution_count": 4,
   "metadata": {},
   "outputs": [],
   "source": [
    "#definisco una matrice k x (n-k)\n",
    "k = 3 #le righe\n",
    "n_k = 4 #le colonne\n",
    "\n",
    "#N.B: Less usa q = dimensione campo: 127; k = 126; n = 252 visto da pdf myLESS_CF pagina 38 di 45"
   ]
  },
  {
   "cell_type": "code",
   "execution_count": 10,
   "metadata": {},
   "outputs": [
    {
     "name": "stdout",
     "output_type": "stream",
     "text": [
      "[[6 6 3 0]\n",
      " [7 5 0 7]\n",
      " [5 0 6 1]]\n"
     ]
    }
   ],
   "source": [
    "A = field(np.random.randint(0, field.order, size=(k, n_k)))\n",
    "print(A)"
   ]
  },
  {
   "cell_type": "code",
   "execution_count": 5,
   "metadata": {},
   "outputs": [],
   "source": [
    "#questa è con l'esempio di 4.3\n",
    "A = field([[1,2,4,7],\n",
    "           [0,2,3,1],\n",
    "           [2,3,2,0]])"
   ]
  },
  {
   "cell_type": "code",
   "execution_count": 11,
   "metadata": {},
   "outputs": [],
   "source": [
    "matrice_bin1 = np.array([\n",
    "    [0, 0, 1],\n",
    "    [1, 0, 0],\n",
    "    [0, 1, 0]\n",
    "])\n",
    "\n",
    "matrice_bin1 = field(matrice_bin1)\n",
    "\n",
    "matrice_bin2 = np.array([\n",
    "    [1, 0, 0, 0],\n",
    "    [0, 0, 1, 0],\n",
    "    [0, 0, 0, 1],\n",
    "    [0, 1, 0, 0]\n",
    "])\n",
    "\n",
    "matrice_bin2 = field(matrice_bin2)"
   ]
  },
  {
   "cell_type": "code",
   "execution_count": 12,
   "metadata": {},
   "outputs": [
    {
     "name": "stdout",
     "output_type": "stream",
     "text": [
      "[[5 1 0 6]\n",
      " [6 0 6 3]\n",
      " [7 7 5 0]]\n"
     ]
    }
   ],
   "source": [
    "A_primo = field(matrice_bin1 @ A @ matrice_bin2)\n",
    "print(A_primo)"
   ]
  },
  {
   "cell_type": "code",
   "execution_count": 13,
   "metadata": {},
   "outputs": [],
   "source": [
    "def duplicati(etichetta):\n",
    "    #se torna true --> lunghezze diverse --> ci sono duplicati\n",
    "    return len(etichetta) != len(set(etichetta))\n",
    "\n",
    "#fa il procedimento di ordinamento tra le righe (che pero sono già ordinate al loro interno)\n",
    "def ordina_matrice(etichetta):\n",
    "    print(\"Entro in ordina matrice\")\n",
    "\n",
    "    #voglio vedere durata esecuzione con meno colonne\n",
    "    start = time.perf_counter()\n",
    "    if not duplicati(etichetta):\n",
    "        indici = np.argsort(etichetta)\n",
    "        end = time.perf_counter()\n",
    "        #finisce confronto con colonne ridotte\n",
    "        tempo = (end-start)*1000\n",
    "        return True, indici, tempo\n",
    "    end = time.perf_counter()\n",
    "    #finisce confronto con colonne ridotte\n",
    "    tempo = (end-start)*1000\n",
    "    return False, [], tempo\n",
    "    \n",
    "# Funzione per ordinare le righe con contatori di swap. In num_confronti metto confronti in # sufficienti metto confronti1. \n",
    "def ordina_per_riga_con_contatori(matrice, num_swap_righe):\n",
    "    #tengo posizioni originali per confrontarle con quelle cambiate e quindi vedere quanti swap di riga ho fatto\n",
    "    print(\"Funzione ordina_per_riga\")\n",
    "    posizioni_originali = np.arange(matrice.shape[0])\n",
    "    \n",
    "    #se non metto l'ordinamento della riga non ridà\n",
    "    ord = []\n",
    "    for riga in matrice:\n",
    "        ord.append(np.sort(riga))\n",
    "    ord = np.array(ord)\n",
    "    print(ord)\n",
    "\n",
    "    etichetta = np.array([hash(tuple(riga.tolist())) for riga in ord])    \n",
    "    print(etichetta)\n",
    " \n",
    "    ris_confronto, indici_ordinamento, tempo = ordina_matrice(etichetta)\n",
    "    print(matrice[indici_ordinamento])\n",
    "    #print(etichetta[indici_ordinamento])\n",
    "    #se torno true quindi due matrici sono uguali\n",
    "    if ris_confronto:\n",
    "        # Conta gli swap solo quando la posizione delle righe cambia\n",
    "        for i, indice in enumerate(indici_ordinamento):\n",
    "            if indice != posizioni_originali[i]:\n",
    "                num_swap_righe += 1\n",
    "        return matrice[indici_ordinamento], num_swap_righe, tempo\n",
    "    else:\n",
    "        return [], num_swap_righe, tempo\n",
    "\n",
    "\n",
    "#POTREI DOVER IMPLEMENTARE UNA COSA SIMILE A SOPRA PER IL COUNT DEI CONFRONTI (LEXSORT NON CE L'HA)\n",
    "#ordinare le colonne con contatori di ordinamenti e swap\n",
    "def ordina_per_colonna_con_contatori(matrice, righe, num_swap_colonne):\n",
    "    print(\"Funzione ordina per colonna\")\n",
    "    #tengo posizioni originali per confrontarle con quelle cambiate e quindi vedere quanti swap di riga ho fatto\n",
    "    posizioni_originali = np.arange(matrice.shape[1])\n",
    "    \n",
    "    # Trova gli indici di ordinamento usando np.lexsort sulle righe, se c'è conflitto passa a el seconda riga\n",
    "    indici_ordinamento = np.lexsort([matrice[rig, :] for rig in righe[::-1]])\n",
    "        \n",
    "    # Conta gli swap solo quando la posizione delle colonne cambia\n",
    "    for i, indice in enumerate(indici_ordinamento):\n",
    "        if indice != posizioni_originali[i]:\n",
    "            num_swap_colonne += 1\n",
    "    \n",
    "    #riordina la matrice in base agli indici trovati\n",
    "    matrice_ordinata = matrice[:, indici_ordinamento]\n",
    "    return matrice_ordinata, num_swap_colonne\n",
    "\n",
    "#qui faccio il test\n",
    "def test_algoritmo(matrice1, matrice2):\n",
    "    righe = range(k)\n",
    "    print(\"Matrice1: \", matrice1)\n",
    "    print(\"Matrice2: \", matrice2)\n",
    "\n",
    "\n",
    "    ordinata1, num_swap_righe, tempo = ordina_per_riga_con_contatori(matrice1, num_swap_righe=0)\n",
    "    if len(ordinata1) == 0:\n",
    "        return False\n",
    "    ordinata_totale_1, num_swap_colonne = ordina_per_colonna_con_contatori(ordinata1, righe, num_swap_colonne=0)\n",
    "    print(\"\\nOrdinata totale 1:\", ordinata_totale_1)\n",
    "    \n",
    "    ordinata2, num_swap_righe, tempo = ordina_per_riga_con_contatori(matrice2, num_swap_righe=0)\n",
    "    if len(ordinata2) == 0:\n",
    "        return False\n",
    "    ordinata_totale_2, num_swap_colonne = ordina_per_colonna_con_contatori(ordinata2, righe, num_swap_colonne=0)    \n",
    "    print(\"\\nOrdinata totale 2:\", ordinata_totale_2)\n",
    "\n",
    "    print(np.array_equal(ordinata_totale_1, ordinata_totale_2))\n",
    "    if np.array_equal(ordinata_totale_1, ordinata_totale_2):\n",
    "        print(\"Le due matrici hanno la stessa CF.\")\n",
    "        return True\n",
    "    else:\n",
    "        print(\"Le due matrici hanno CF diversa\")\n",
    "        return False   \n"
   ]
  },
  {
   "cell_type": "code",
   "execution_count": 14,
   "metadata": {},
   "outputs": [
    {
     "name": "stdout",
     "output_type": "stream",
     "text": [
      "Matrice1:  [[6 6 3 0]\n",
      " [7 5 0 7]\n",
      " [5 0 6 1]]\n",
      "Matrice2:  [[5 1 0 6]\n",
      " [6 0 6 3]\n",
      " [7 7 5 0]]\n",
      "Funzione ordina_per_riga\n",
      "[[0 3 6 6]\n",
      " [0 5 7 7]\n",
      " [0 1 5 6]]\n",
      "[-6759649100879972217 -1197012408035503134   -10257662125140944]\n",
      "Entro in ordina matrice\n",
      "[[6 6 3 0]\n",
      " [7 5 0 7]\n",
      " [5 0 6 1]]\n",
      "Funzione ordina per colonna\n",
      "\n",
      "Ordinata totale 1: [[0 3 6 6]\n",
      " [7 0 5 7]\n",
      " [1 6 0 5]]\n",
      "Funzione ordina_per_riga\n",
      "[[0 1 5 6]\n",
      " [0 3 6 6]\n",
      " [0 5 7 7]]\n",
      "[  -10257662125140944 -6759649100879972217 -1197012408035503134]\n",
      "Entro in ordina matrice\n",
      "[[6 0 6 3]\n",
      " [7 7 5 0]\n",
      " [5 1 0 6]]\n",
      "Funzione ordina per colonna\n",
      "\n",
      "Ordinata totale 2: [[0 3 6 6]\n",
      " [7 0 5 7]\n",
      " [1 6 0 5]]\n",
      "True\n",
      "Le due matrici hanno la stessa CF.\n"
     ]
    },
    {
     "data": {
      "text/plain": [
       "True"
      ]
     },
     "execution_count": 14,
     "metadata": {},
     "output_type": "execute_result"
    }
   ],
   "source": [
    "test_algoritmo(A, A_primo)"
   ]
  }
 ],
 "metadata": {
  "kernelspec": {
   "display_name": ".venv",
   "language": "python",
   "name": "python3"
  },
  "language_info": {
   "codemirror_mode": {
    "name": "ipython",
    "version": 3
   },
   "file_extension": ".py",
   "mimetype": "text/x-python",
   "name": "python",
   "nbconvert_exporter": "python",
   "pygments_lexer": "ipython3",
   "version": "3.11.2"
  }
 },
 "nbformat": 4,
 "nbformat_minor": 2
}
