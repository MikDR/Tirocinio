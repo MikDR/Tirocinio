{
 "cells": [
  {
   "cell_type": "code",
   "execution_count": 1,
   "metadata": {},
   "outputs": [
    {
     "name": "stdout",
     "output_type": "stream",
     "text": [
      "Requirement already satisfied: galois in /home/michele/Desktop/Tirocinio_giusto/Tirocinio/.venv/lib/python3.11/site-packages (0.4.2)\n",
      "Requirement already satisfied: numpy<2.2,>=1.21.0 in /home/michele/Desktop/Tirocinio_giusto/Tirocinio/.venv/lib/python3.11/site-packages (from galois) (2.0.2)\n",
      "Requirement already satisfied: numba<0.61,>=0.55 in /home/michele/Desktop/Tirocinio_giusto/Tirocinio/.venv/lib/python3.11/site-packages (from galois) (0.60.0)\n",
      "Requirement already satisfied: typing-extensions>=4.0.0 in /home/michele/Desktop/Tirocinio_giusto/Tirocinio/.venv/lib/python3.11/site-packages (from galois) (4.12.2)\n",
      "Requirement already satisfied: llvmlite<0.44,>=0.43.0dev0 in /home/michele/Desktop/Tirocinio_giusto/Tirocinio/.venv/lib/python3.11/site-packages (from numba<0.61,>=0.55->galois) (0.43.0)\n",
      "Note: you may need to restart the kernel to use updated packages.\n"
     ]
    }
   ],
   "source": [
    "pip install galois"
   ]
  },
  {
   "cell_type": "code",
   "execution_count": 1,
   "metadata": {},
   "outputs": [],
   "source": [
    "import galois\n",
    "import numpy as np\n",
    "import time"
   ]
  },
  {
   "cell_type": "code",
   "execution_count": 2,
   "metadata": {},
   "outputs": [],
   "source": [
    "#definisco un campo di Galois come nell'esempi\n",
    "field = galois.GF(2**3)"
   ]
  },
  {
   "cell_type": "code",
   "execution_count": 3,
   "metadata": {},
   "outputs": [],
   "source": [
    "#definisco una matrice k x (n-k) dove n-k = 4\n",
    "k = 3 #le righe\n",
    "n_k = 4 #le colonne\n",
    "\n",
    "#N.B: Less usa q = dimensione campo: 127; k = 126; n = 252 "
   ]
  },
  {
   "cell_type": "code",
   "execution_count": 4,
   "metadata": {},
   "outputs": [],
   "source": [
    "#questa è con l'esempio di 4.3\n",
    "A = field([[6, 6, 3, 0],\n",
    "           [7, 5, 0, 7],\n",
    "           [5, 0, 6, 1]])"
   ]
  },
  {
   "cell_type": "code",
   "execution_count": 6,
   "metadata": {},
   "outputs": [
    {
     "data": {
      "text/plain": [
       "'A = field(np.random.randint(0, field.order, size=(k, n_k)))\\nprint(A)'"
      ]
     },
     "execution_count": 6,
     "metadata": {},
     "output_type": "execute_result"
    }
   ],
   "source": [
    "#ho verificato che funziona pure con i random\n",
    "\"\"\"A = field(np.random.randint(0, field.order, size=(k, n_k)))\n",
    "print(A)\"\"\""
   ]
  },
  {
   "cell_type": "code",
   "execution_count": 5,
   "metadata": {},
   "outputs": [],
   "source": [
    "matrice_bin1 = np.array([\n",
    "    [0, 0, 1],\n",
    "    [1, 0, 0],\n",
    "    [0, 1, 0]\n",
    "])\n",
    "\n",
    "matrice_bin1 = field(matrice_bin1)\n",
    "\n",
    "matrice_bin2 = np.array([\n",
    "    [1, 0, 0, 0],\n",
    "    [0, 0, 1, 0],\n",
    "    [0, 0, 0, 1],\n",
    "    [0, 1, 0, 0]\n",
    "])\n",
    "\n",
    "matrice_bin2 = field(matrice_bin2)"
   ]
  },
  {
   "cell_type": "code",
   "execution_count": 6,
   "metadata": {},
   "outputs": [
    {
     "name": "stdout",
     "output_type": "stream",
     "text": [
      "[[5 1 0 6]\n",
      " [6 0 6 3]\n",
      " [7 7 5 0]]\n"
     ]
    }
   ],
   "source": [
    "A_primo = field(matrice_bin1 @ A @ matrice_bin2)\n",
    "print(A_primo)"
   ]
  },
  {
   "cell_type": "code",
   "execution_count": 9,
   "metadata": {},
   "outputs": [
    {
     "data": {
      "text/plain": [
       "'A_primo = field([[2,2,0,3],\\n           [2,0,2,3],\\n           [0,3,1,2]])'"
      ]
     },
     "execution_count": 9,
     "metadata": {},
     "output_type": "execute_result"
    }
   ],
   "source": [
    "\"\"\"A_primo = field([[2,2,0,3],\n",
    "           [2,0,2,3],\n",
    "           [0,3,1,2]])\"\"\""
   ]
  },
  {
   "cell_type": "code",
   "execution_count": 7,
   "metadata": {},
   "outputs": [],
   "source": [
    "#definito funzione ordinamento lessicografico riga (ordino ogni riga e definisco ordine degli indici) e gestiti casi di \n",
    "#conflitto. L'argomento colonne è quello che ci indica in che ordine verificare i conflitti \n",
    "#ex: colonne=[0,1,2] --> ordino per colonna 0, se c'è conflitto tra due vedo la colonna 1 e cosi via\n",
    "\n",
    "#faccio ordinamento crescente dei valori all'interno della riga e torno matrice con righe ordinate (ordinato).\n",
    "#da questa matrice faccio l'ordinamento elemento a elemento posizionale corrispondente e definisco quindi gli indici \n",
    "#riordinati. ex: [1 0 2] --> prima la riga ORIGINALE 1 poi riga ORIGINALE 0 e così via. Per originale intendo \"matrice\"\n",
    "\n",
    "#questa è la funzione che gli fornisco la matrice ordinata all'interno delle righe e lei pme la ordina per righe\n",
    "def ordina_matrice(matrice):\n",
    "    print(matrice)\n",
    "    #righe matrice\n",
    "    n = matrice.shape[0]  \n",
    "    #contatore confronti\n",
    "    confronti = 0  \n",
    "    #array indici originali\n",
    "    indici = list(np.arange(n))  \n",
    "\n",
    "    #bubble sort per conteggio confronti\n",
    "    for i in range(n):\n",
    "        for j in range(i + 1, n):\n",
    "            print(f\"Confronto tra riga {i} e riga {j}\")\n",
    "            #confronto per primo el riga poi secondo e cosi via\n",
    "            for k in range(matrice.shape[1]):  \n",
    "                confronti += 1\n",
    "                #sono ordinate tra loro, vado avanti\n",
    "                if matrice[indici[i], k] < matrice[indici[j], k]: \n",
    "                    print(f\"Riga {i} ({matrice[indici[i]]}) è minore di Riga {j} ({matrice[indici[j]]})\")\n",
    "                    break\n",
    "                #devo mettere la riga sopra quella con cui è confrontata e andare avanti\n",
    "                elif matrice[indici[i], k] > matrice[indici[j], k]:\n",
    "                    print(f\"Riga {i} ({matrice[indici[i]]}) è maggiore di Riga {j} ({matrice[indici[j]]})\")\n",
    "                    #sposto indice sopra\n",
    "                    indici[i], indici[j] = indici[j], indici[i]\n",
    "                    print(\"Indici dopo lo spostamento:\", indici)\n",
    "                    break \n",
    "                if k == (n_k - 1):\n",
    "                    print(\"Algoritmo ha almeno due righe uguali --> fallisco\")\n",
    "                    return [], confronti\n",
    "    print(\"Indici delle righe ordinate:\", indici)\n",
    "    print(\"Numero totale di confronti:\", confronti)\n",
    "    \n",
    "    return indici, confronti\n",
    "\n",
    "def ordina_matrice_ottimizzata(matrice):\n",
    "    print(\"Entro in ordina matrice ottimizzata\")\n",
    "    \n",
    "    n = matrice.shape[0]\n",
    "    n_colonne = matrice.shape[1]\n",
    "    \n",
    "    # Array indici originali\n",
    "    indici = np.arange(n)\n",
    "    indici1 = np.arange(n)\n",
    "\n",
    "    # Timing\n",
    "    start = time.perf_counter()\n",
    "\n",
    "    # Bubble sort sostituito da numpy.argsort per efficienza\n",
    "    indici = np.lexsort([matrice[:, i] for i in range(n_colonne - 1, -1, -1)])  # Ordinamento completo\n",
    "    end = time.perf_counter()\n",
    "    tempo = (end - start) * 1000\n",
    "\n",
    "    return indici, 0\n",
    "   \n",
    "\n",
    "\n",
    "\n",
    "def ordina_per_riga(matrice):\n",
    "    ordinato = []\n",
    "    for riga in matrice:\n",
    "        ordinato.append(np.sort(riga))\n",
    "        \n",
    "    ordinato = np.array(ordinato)\n",
    "    \n",
    "    indici_ordinati, num_confronti = ordina_matrice(ordinato)\n",
    "    if len(indici_ordinati) == 0:\n",
    "        return []\n",
    "    print(\"Matrice ordinata per righe: \",matrice[indici_ordinati])\n",
    "    return matrice[indici_ordinati]\n",
    "\n",
    "#ordino poi per il primo elemento della colonna e in caso di conflitti li ho gestiti. \n",
    "def ordina_per_colonna(matrice, righe):\n",
    "    if len(matrice) == 0:\n",
    "        return []\n",
    "    indici_ordinamento = np.lexsort([matrice[rig, :] for rig in righe[::-1]])\n",
    "    return matrice[:, indici_ordinamento]\n",
    "\n",
    "#qui faccio il test\n",
    "def test_algoritmo(matrice1, matrice2):\n",
    "    righe = range(k)\n",
    "    print(\"Matrice1: \", matrice1)\n",
    "\n",
    "    ordinata1 = ordina_per_colonna(ordina_per_riga(matrice1), righe)\n",
    "    print(\"\\nOrdinata 1: \",ordinata1)\n",
    "\n",
    "    print(\"Matrice2: \", matrice2)\n",
    "    ordinata2 = ordina_per_colonna(ordina_per_riga(matrice2), righe)\n",
    "    print(\"\\nOrdinata2: \",ordinata2)     \n",
    "\n",
    "    if np.array_equal(ordinata1, ordinata2):\n",
    "        print(\"Le due matrici hanno la stessa CF.\")\n",
    "        return True\n",
    "    else:\n",
    "        print(\"Le due matrici hanno CF diversa\")\n",
    "        return False   \n",
    "\n"
   ]
  },
  {
   "cell_type": "code",
   "execution_count": 8,
   "metadata": {},
   "outputs": [
    {
     "name": "stdout",
     "output_type": "stream",
     "text": [
      "Matrice1:  [[6 6 3 0]\n",
      " [7 5 0 7]\n",
      " [5 0 6 1]]\n",
      "[[0 3 6 6]\n",
      " [0 5 7 7]\n",
      " [0 1 5 6]]\n",
      "Confronto tra riga 0 e riga 1\n",
      "Riga 0 ([0 3 6 6]) è minore di Riga 1 ([0 5 7 7])\n",
      "Confronto tra riga 0 e riga 2\n",
      "Riga 0 ([0 3 6 6]) è maggiore di Riga 2 ([0 1 5 6])\n",
      "Indici dopo lo spostamento: [np.int64(2), np.int64(1), np.int64(0)]\n",
      "Confronto tra riga 1 e riga 2\n",
      "Riga 1 ([0 5 7 7]) è maggiore di Riga 2 ([0 3 6 6])\n",
      "Indici dopo lo spostamento: [np.int64(2), np.int64(0), np.int64(1)]\n",
      "Indici delle righe ordinate: [np.int64(2), np.int64(0), np.int64(1)]\n",
      "Numero totale di confronti: 6\n",
      "Matrice ordinata per righe:  [[5 0 6 1]\n",
      " [6 6 3 0]\n",
      " [7 5 0 7]]\n",
      "\n",
      "Ordinata 1:  [[0 1 5 6]\n",
      " [6 0 6 3]\n",
      " [5 7 7 0]]\n",
      "Matrice2:  [[5 1 0 6]\n",
      " [6 0 6 3]\n",
      " [7 7 5 0]]\n",
      "[[0 1 5 6]\n",
      " [0 3 6 6]\n",
      " [0 5 7 7]]\n",
      "Confronto tra riga 0 e riga 1\n",
      "Riga 0 ([0 1 5 6]) è minore di Riga 1 ([0 3 6 6])\n",
      "Confronto tra riga 0 e riga 2\n",
      "Riga 0 ([0 1 5 6]) è minore di Riga 2 ([0 5 7 7])\n",
      "Confronto tra riga 1 e riga 2\n",
      "Riga 1 ([0 3 6 6]) è minore di Riga 2 ([0 5 7 7])\n",
      "Indici delle righe ordinate: [np.int64(0), np.int64(1), np.int64(2)]\n",
      "Numero totale di confronti: 6\n",
      "Matrice ordinata per righe:  [[5 1 0 6]\n",
      " [6 0 6 3]\n",
      " [7 7 5 0]]\n",
      "\n",
      "Ordinata2:  [[0 1 5 6]\n",
      " [6 0 6 3]\n",
      " [5 7 7 0]]\n",
      "Le due matrici hanno la stessa CF.\n"
     ]
    },
    {
     "data": {
      "text/plain": [
       "True"
      ]
     },
     "execution_count": 8,
     "metadata": {},
     "output_type": "execute_result"
    }
   ],
   "source": [
    "test_algoritmo(A, A_primo)"
   ]
  }
 ],
 "metadata": {
  "kernelspec": {
   "display_name": ".venv",
   "language": "python",
   "name": "python3"
  },
  "language_info": {
   "codemirror_mode": {
    "name": "ipython",
    "version": 3
   },
   "file_extension": ".py",
   "mimetype": "text/x-python",
   "name": "python",
   "nbconvert_exporter": "python",
   "pygments_lexer": "ipython3",
   "version": "3.11.2"
  }
 },
 "nbformat": 4,
 "nbformat_minor": 2
}
