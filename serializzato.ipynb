{
 "cells": [
  {
   "cell_type": "code",
   "execution_count": 17,
   "metadata": {},
   "outputs": [
    {
     "name": "stdout",
     "output_type": "stream",
     "text": [
      "Requirement already satisfied: galois in /home/michele/Desktop/Tirocinio/.venv/lib/python3.11/site-packages (0.4.2)\n",
      "Requirement already satisfied: numpy<2.2,>=1.21.0 in /home/michele/Desktop/Tirocinio/.venv/lib/python3.11/site-packages (from galois) (2.0.2)\n",
      "Requirement already satisfied: numba<0.61,>=0.55 in /home/michele/Desktop/Tirocinio/.venv/lib/python3.11/site-packages (from galois) (0.60.0)\n",
      "Requirement already satisfied: typing-extensions>=4.0.0 in /home/michele/Desktop/Tirocinio/.venv/lib/python3.11/site-packages (from galois) (4.12.2)\n",
      "Requirement already satisfied: llvmlite<0.44,>=0.43.0dev0 in /home/michele/Desktop/Tirocinio/.venv/lib/python3.11/site-packages (from numba<0.61,>=0.55->galois) (0.43.0)\n",
      "Note: you may need to restart the kernel to use updated packages.\n"
     ]
    }
   ],
   "source": [
    "pip install galois"
   ]
  },
  {
   "cell_type": "code",
   "execution_count": 18,
   "metadata": {},
   "outputs": [],
   "source": [
    "import galois\n",
    "import numpy as np\n",
    "import time"
   ]
  },
  {
   "cell_type": "code",
   "execution_count": 19,
   "metadata": {},
   "outputs": [],
   "source": [
    "#definisco un campo di Galois come nell'esempio \n",
    "field = galois.GF(2**3)"
   ]
  },
  {
   "cell_type": "code",
   "execution_count": 20,
   "metadata": {},
   "outputs": [],
   "source": [
    "#definisco una matrice k x (n-k) dove n-k = 4\n",
    "k = 3 #le righe\n",
    "n_k = 4 #le colonne\n",
    "\n",
    "#N.B: Less usa q = dimensione campo: 127; k = 126; n = 252 "
   ]
  },
  {
   "cell_type": "code",
   "execution_count": 21,
   "metadata": {},
   "outputs": [],
   "source": [
    "#ho verificato che funziona pure con i random\n",
    "#A = field.Random((k, n_k))\n",
    "#print(A)\n",
    "\n",
    "#questa è con l'esempio di 4.3\n",
    "A = field([[1,2,4,7],\n",
    "           [0,2,3,1],\n",
    "           [2,3,2,0]])"
   ]
  },
  {
   "cell_type": "code",
   "execution_count": 22,
   "metadata": {},
   "outputs": [],
   "source": [
    "matrice_bin1 = np.array([\n",
    "    [0, 0, 1],\n",
    "    [1, 0, 0],\n",
    "    [0, 1, 0]\n",
    "])\n",
    "\n",
    "matrice_bin1 = field(matrice_bin1)\n",
    "\n",
    "matrice_bin2 = np.array([\n",
    "    [1, 0, 0, 0],\n",
    "    [0, 0, 1, 0],\n",
    "    [0, 0, 0, 1],\n",
    "    [0, 1, 0, 0]\n",
    "])\n",
    "\n",
    "matrice_bin2 = field(matrice_bin2)"
   ]
  },
  {
   "cell_type": "code",
   "execution_count": 23,
   "metadata": {},
   "outputs": [
    {
     "name": "stdout",
     "output_type": "stream",
     "text": [
      "[[2 3 2 0]\n",
      " [1 2 4 7]\n",
      " [0 2 3 1]]\n"
     ]
    }
   ],
   "source": [
    "#np.dot prodotto di due  array\n",
    "A_primo_intermedio = field(np.dot(matrice_bin1, A))\n",
    "print(A_primo_intermedio)"
   ]
  },
  {
   "cell_type": "code",
   "execution_count": 24,
   "metadata": {},
   "outputs": [
    {
     "name": "stdout",
     "output_type": "stream",
     "text": [
      "[[2 0 3 2]\n",
      " [1 7 2 4]\n",
      " [0 1 2 3]]\n"
     ]
    }
   ],
   "source": [
    "A_primo = field(np.dot(A_primo_intermedio, matrice_bin2))\n",
    "print(A_primo)"
   ]
  },
  {
   "cell_type": "code",
   "execution_count": 25,
   "metadata": {},
   "outputs": [],
   "source": [
    "#qui in accordo con slide 18 articolo devo ordinare la matrice A e A_primo per righe e colonne, ordinamento per riga \n",
    "#è dato dalla somma delle righe in ordine decrescente, mentre per colonna in ordine numerico del primo elemento e in caso di \n",
    "#parità del secondo e così via\n",
    "\n",
    "#lista per conservare somme delle righe, inizializzata con gli zeri\n",
    "somme_rig = [field(0)] * A_primo.shape[0]\n",
    "\n",
    "#lista per memorizzare i primi elementi della colonna\n",
    "primi_colonne = [0] * A_primo.shape[1]\n",
    "#lista per memorizzare i secondi elemnti della colonna\n",
    "secondi_colonne = [0] * A_primo.shape[1]\n",
    "\n",
    "#QUI SI POTREBBE RAGGIONARE SU QUANTI ELEMENTI SALVARE DI OGNI COLONNA POICHÈ LA POSSIBILITÀ CHE QUESTI SIANO UGUALI \n",
    "#PER PIÙ DI TOT RIGHE DIMINUISCE (1/PROB_CONFLITTO_RIGA1 * 1/PROB_CONFLITTO_RIGA2 ....) È DA VEDERE COME VENGONO CREATE \n",
    "#POTREI PER ESEMPIO PENSARE DI SALVARMI I PRIMI Y CHE SONO MEDIAMENTE I CONFLITTI CHE TROVIAMO E QUINDI UNA VOLTA SUPERATA\n",
    "#LA Y-ESIMA UGUAGLIANZA TRA DUE COLONNE DIVERSE ANDIAMO AD ESEGUIRE A RUN TIME ALTRI CONFRONTI\n",
    "\n",
    "\n",
    "#funzione per somma elementi nella colonna\n",
    "def somma_riga(matrice, indice_riga):\n",
    "    riga = matrice[indice_riga, :]\n",
    "    somma = field(np.sum([riga])%8)\n",
    "\n",
    "    #print(\"Riga : \", riga) #questi vanno eliminati poi\n",
    "    #print(\"Tipo riga: \", type(riga)) #questo è per far vedere che pur essendo di tipo GF il np.sum non funziona se non metto %8\n",
    "    #print(\"Somma: \", somma) #questi vanno eliminati poi\n",
    "    #print(\"Tipo somma: \",type(somma)) #questo è per far vedere che pur essendo di tipo GF il np.sum non funziona se non metto %8\n",
    "    somme_rig[indice_riga] = somma\n",
    "        #print(somme_rig)\n",
    "\n",
    "#vado ad estrarre il primo ed il secondo elemento di ogni colonna\n",
    "def estrai_da_colonna(matrice, indice_colonna):\n",
    "    colonna  = matrice[:, indice_colonna]\n",
    "    primi_colonne[indice_colonna] = colonna[0]\n",
    "        #print(primi_colonne)\n",
    "    secondi_colonne[indice_colonna] = colonna[1]\n",
    "        #print(secondi_colonne)\n",
    "\n",
    "#eseguo in parallelo somma_riga\n",
    "def esegui_somma_righe_seriale(matrice):\n",
    "\n",
    "    for indice_riga in range(matrice.shape[0]):\n",
    "        somma_riga(matrice, indice_riga)\n",
    "\n",
    "\n",
    "#eseguo in parallelo estrazionealgoritmo1.ipynb\n",
    "def esegui_estrazione_seriale(matrice):\n",
    "\n",
    "    for indice_colonna in range(matrice.shape[1]):\n",
    "        estrai_da_colonna(matrice, indice_colonna)\n"
   ]
  },
  {
   "cell_type": "code",
   "execution_count": 26,
   "metadata": {},
   "outputs": [],
   "source": [
    "#threads_righe = []\n",
    "#threds_colonne = []\n",
    "colonne_finali = []"
   ]
  },
  {
   "cell_type": "code",
   "execution_count": 27,
   "metadata": {},
   "outputs": [],
   "source": [
    "esegui_somma_righe_seriale(A_primo)"
   ]
  },
  {
   "cell_type": "code",
   "execution_count": 28,
   "metadata": {},
   "outputs": [
    {
     "name": "stdout",
     "output_type": "stream",
     "text": [
      "\n",
      "Somma degli elementi di ciascuna riga:  [GF(7, order=2^3), GF(6, order=2^3), GF(6, order=2^3)]\n",
      "\n",
      "Elementi primi estratti:  [0, 0, 0, 0]\n",
      "\n",
      "Elementi secondi estratti:  [0, 0, 0, 0]\n"
     ]
    }
   ],
   "source": [
    "print (\"\\nSomma degli elementi di ciascuna riga: \", somme_rig)\n",
    "print (\"\\nElementi primi estratti: \", primi_colonne)\n",
    "print (\"\\nElementi secondi estratti: \", secondi_colonne)"
   ]
  },
  {
   "cell_type": "code",
   "execution_count": 29,
   "metadata": {},
   "outputs": [
    {
     "name": "stdout",
     "output_type": "stream",
     "text": [
      "[1 2 0]\n",
      "[[1 7 2 4]\n",
      " [0 1 2 3]\n",
      " [2 0 3 2]]\n"
     ]
    }
   ],
   "source": [
    "#ordino in maniera crescente per valore gli indici\n",
    "indici_ordinati = np.argsort(somme_rig)\n",
    "print(indici_ordinati)\n",
    "\n",
    "#applico gli swap\n",
    "A_canonica_righe = A_primo[indici_ordinati, :]\n",
    "\n",
    "print(A_canonica_righe)"
   ]
  },
  {
   "cell_type": "code",
   "execution_count": 30,
   "metadata": {},
   "outputs": [],
   "source": [
    "#ora si passa alle colonne\n",
    "esegui_estrazione_seriale(A_canonica_righe)\n",
    "\n",
    "#una volta fatta la funzione di estrazione dei valori ordino gli indici in maniera crescente per valore\n",
    "#print(\"Primi colonne: \", primi_colonne)\n",
    "indici_ordinati_col = np.argsort(primi_colonne)\n",
    "#print(\"Indici ordinati col: \", indici_ordinati_col)\n",
    "\n",
    "\n",
    "for idx in indici_ordinati_col:\n",
    "    #print(\"Index: \", idx)\n",
    "    #qui tengo il primo e il secondo della colonna e gli associo l'indice di riga\n",
    "    colonne_finali.append((primi_colonne[idx], secondi_colonne[idx], idx))\n",
    "    #print(\"Colonne finali: \", colonne_finali)\n",
    "\n",
    "#vado a fare ordinamento per il primo elemento e in caso per il secondo, qui nel caso devo inserire il terzo quarto...\n",
    "colonne_finali.sort(key=lambda x: (x[0], x[1]))\n",
    "\n",
    "#qui prendiamo tutte le righe (prima dei :) e alle colonne per ogni colonna di colonne_finali accediamo al 3 elemento (l'indice)\n",
    "A_CF = A_canonica_righe[:, [col[2] for col in colonne_finali]]"
   ]
  },
  {
   "cell_type": "code",
   "execution_count": 31,
   "metadata": {},
   "outputs": [
    {
     "name": "stdout",
     "output_type": "stream",
     "text": [
      "[[1 2 4 7]\n",
      " [0 2 3 1]\n",
      " [2 3 2 0]]\n"
     ]
    }
   ],
   "source": [
    "print(A_CF)"
   ]
  },
  {
   "cell_type": "code",
   "execution_count": 32,
   "metadata": {},
   "outputs": [
    {
     "name": "stdout",
     "output_type": "stream",
     "text": [
      "Durata esecuzione:  4.94760700075858  ms\n"
     ]
    }
   ],
   "source": [
    "#devo fare lo stesso per la matrice A per dimostrare che sono CF\n",
    "\n",
    "start_time= time.perf_counter()\n",
    "colonne_finali = []\n",
    "\n",
    "#creo un thread per ogni colonna\n",
    "esegui_somma_righe_seriale(A)\n",
    "\n",
    "#print (\"\\nSomma degli elementi di ciascuna riga: \", somme_rig)\n",
    "\n",
    "#ordino in maniera crescente i valori\n",
    "indici_ordinati = np.argsort(somme_rig)\n",
    "#print(indici_ordinati)\n",
    "\n",
    "#applico gli swap\n",
    "A_canonica_righe = A[indici_ordinati, :]\n",
    "\n",
    "#print(A_canonica_righe)\n",
    "\n",
    "#ora si passa alle colonne\n",
    "esegui_estrazione_seriale(A_canonica_righe)\n",
    "\n",
    "#una volta fatta la funzione di estrazione dei valori ordino gli indici in maniera crescente per valore\n",
    "#print(\"Primi colonne: \", primi_colonne)\n",
    "indici_ordinati_col = np.argsort(primi_colonne)\n",
    "#print(\"Indici ordinati col: \", indici_ordinati_col)\n",
    "\n",
    "\n",
    "for idx in indici_ordinati_col:\n",
    "    #print(\"Index: \", idx)\n",
    "    #qui tengo il primo e il secondo della colonna e gli associo l'indice di riga\n",
    "    colonne_finali.append((primi_colonne[idx], secondi_colonne[idx], idx))\n",
    "    #print(\"Colonne finali: \", colonne_finali)\n",
    "\n",
    "#vado a fare ordinamento per il primo elemento e in caso per il secondo, qui nel caso devo inserire il terzo quarto...\n",
    "colonne_finali.sort(key=lambda x: (x[0], x[1]))\n",
    "\n",
    "A_CF = A_canonica_righe[:, [col[2] for col in colonne_finali]]\n",
    "\n",
    "end_timer = time.perf_counter()\n",
    "durata = (end_timer - start_time)*1000\n",
    "print(\"Durata esecuzione: \", durata, \" ms\")"
   ]
  },
  {
   "cell_type": "code",
   "execution_count": 33,
   "metadata": {},
   "outputs": [
    {
     "name": "stdout",
     "output_type": "stream",
     "text": [
      "[[1 2 4 7]\n",
      " [0 2 3 1]\n",
      " [2 3 2 0]]\n"
     ]
    }
   ],
   "source": [
    "print(A_CF)"
   ]
  }
 ],
 "metadata": {
  "kernelspec": {
   "display_name": ".venv",
   "language": "python",
   "name": "python3"
  },
  "language_info": {
   "codemirror_mode": {
    "name": "ipython",
    "version": 3
   },
   "file_extension": ".py",
   "mimetype": "text/x-python",
   "name": "python",
   "nbconvert_exporter": "python",
   "pygments_lexer": "ipython3",
   "version": "3.11.2"
  }
 },
 "nbformat": 4,
 "nbformat_minor": 2
}
