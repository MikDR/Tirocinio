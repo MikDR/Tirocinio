{
 "cells": [
  {
   "cell_type": "code",
   "execution_count": 36,
   "metadata": {},
   "outputs": [
    {
     "name": "stdout",
     "output_type": "stream",
     "text": [
      "Requirement already satisfied: galois in ./.venv/lib/python3.11/site-packages (0.4.2)\n",
      "Requirement already satisfied: numpy<2.2,>=1.21.0 in ./.venv/lib/python3.11/site-packages (from galois) (2.0.2)\n",
      "Requirement already satisfied: numba<0.61,>=0.55 in ./.venv/lib/python3.11/site-packages (from galois) (0.60.0)\n",
      "Requirement already satisfied: typing-extensions>=4.0.0 in ./.venv/lib/python3.11/site-packages (from galois) (4.12.2)\n",
      "Requirement already satisfied: llvmlite<0.44,>=0.43.0dev0 in ./.venv/lib/python3.11/site-packages (from numba<0.61,>=0.55->galois) (0.43.0)\n",
      "Note: you may need to restart the kernel to use updated packages.\n"
     ]
    }
   ],
   "source": [
    "pip install galois"
   ]
  },
  {
   "cell_type": "code",
   "execution_count": 37,
   "metadata": {},
   "outputs": [],
   "source": [
    "import galois\n",
    "import numpy as np"
   ]
  },
  {
   "cell_type": "code",
   "execution_count": 38,
   "metadata": {},
   "outputs": [],
   "source": [
    "#definisco un campo di Galois come nell'esempio \n",
    "field = galois.GF(2**3)"
   ]
  },
  {
   "cell_type": "code",
   "execution_count": 39,
   "metadata": {},
   "outputs": [],
   "source": [
    "#definisco una matrice k x (n-k) dove n-k = 4\n",
    "k = 3 #le righe\n",
    "n_k = 4 #le colonne"
   ]
  },
  {
   "cell_type": "code",
   "execution_count": 40,
   "metadata": {},
   "outputs": [
    {
     "name": "stdout",
     "output_type": "stream",
     "text": [
      "[[1 0 1 7]\n",
      " [6 0 3 6]\n",
      " [0 5 4 4]]\n"
     ]
    }
   ],
   "source": [
    "A = field.Random((k, n_k))\n",
    "print(A)"
   ]
  },
  {
   "cell_type": "code",
   "execution_count": 41,
   "metadata": {},
   "outputs": [],
   "source": [
    "matrice_bin1 = np.array([\n",
    "    [0, 0, 1],\n",
    "    [1, 0, 0],\n",
    "    [0, 1, 0]\n",
    "])\n",
    "\n",
    "matrice_bin1 = field(matrice_bin1)\n",
    "\n",
    "matrice_bin2 = np.array([\n",
    "    [1, 0, 0, 0],\n",
    "    [0, 0, 1, 0],\n",
    "    [0, 0, 0, 1],\n",
    "    [0, 1, 0, 0]\n",
    "])\n",
    "\n",
    "matrice_bin2 = field(matrice_bin2)"
   ]
  },
  {
   "cell_type": "code",
   "execution_count": 42,
   "metadata": {},
   "outputs": [
    {
     "name": "stdout",
     "output_type": "stream",
     "text": [
      "[[0 5 4 4]\n",
      " [1 0 1 7]\n",
      " [6 0 3 6]]\n"
     ]
    }
   ],
   "source": [
    "A_primo_intermedio = field(np.dot(matrice_bin1, A))\n",
    "print(A_primo_intermedio)"
   ]
  },
  {
   "cell_type": "code",
   "execution_count": 43,
   "metadata": {},
   "outputs": [
    {
     "name": "stdout",
     "output_type": "stream",
     "text": [
      "[[0 4 5 4]\n",
      " [1 7 0 1]\n",
      " [6 6 0 3]]\n"
     ]
    }
   ],
   "source": [
    "A_primo = field(np.dot(A_primo_intermedio, matrice_bin2))\n",
    "print(A_primo)"
   ]
  },
  {
   "cell_type": "code",
   "execution_count": 44,
   "metadata": {},
   "outputs": [],
   "source": [
    "import threading"
   ]
  },
  {
   "cell_type": "code",
   "execution_count": 45,
   "metadata": {},
   "outputs": [],
   "source": [
    "#qui in accordo con slide 18 articolo devo ordinare la matrice A e A_primo per righe e colonne, ordinamento per riga \n",
    "#è dato dalla somma delle righe in ordine decrescente, mentre per colonna in ordine numerico del primo elemento e in caso di \n",
    "#parità del secondo e così via\n",
    "\n",
    "#lista per conservare somme delle righe, inizializzata con gli zeri\n",
    "somme_rig = [field(0)] * A_primo.shape[0]\n",
    "primi_colonne = [0] * A_primo.shape[1]\n",
    "secondi_colonne = [0] * A_primo.shape[1]\n",
    "\n",
    "#creo il lock per evitare conglitti nell'aggiornamento\n",
    "lock = threading.Lock()\n",
    "\n",
    "#funzione per somma elementi nella colonna\n",
    "def somma_riga(matrice, indice_riga):\n",
    "    riga = matrice[indice_riga, :]\n",
    "    somma = field(np.sum([riga])%8)\n",
    "\n",
    "    print(\"Riga : \", riga) #questi vanno eliminati poi\n",
    "    print(\"Tipo riga: \", type(riga))\n",
    "    print(\"Somma: \", somma) #questi vanno eliminati poi\n",
    "    print(\"Tipo somma: \",type(somma))\n",
    "    with lock: #vado ad usare il lock\n",
    "        somme_rig[indice_riga] = somma\n",
    "        print(somme_rig)\n",
    "\n",
    "def estrai_da_colonna(matrice, indice_colonna):\n",
    "    colonna  = matrice[:, indice_colonna]\n",
    "    with lock:\n",
    "        primi_colonne[indice_colonna] = colonna[0]\n",
    "        secondi_colonne[indice_colonna] = colonna[1]\n"
   ]
  },
  {
   "cell_type": "code",
   "execution_count": 46,
   "metadata": {},
   "outputs": [],
   "source": [
    "threads_righe = []\n",
    "threds_colonne = []\n",
    "colonne_finali = []"
   ]
  },
  {
   "cell_type": "code",
   "execution_count": 47,
   "metadata": {},
   "outputs": [
    {
     "name": "stdout",
     "output_type": "stream",
     "text": [
      "Riga :  [0 4 5 4]\n",
      "Tipo riga:  <class 'galois.GF(2^3)'>\n",
      "Somma:  5\n",
      "Tipo somma:  <class 'galois.GF(2^3)'>\n",
      "[GF(5, order=2^3), GF(0, order=2^3), GF(0, order=2^3)]\n",
      "Riga :  [1 7 0 1]\n",
      "Tipo riga:  <class 'galois.GF(2^3)'>\n",
      "Somma:  1\n",
      "Tipo somma:  <class 'galois.GF(2^3)'>\n",
      "[GF(5, order=2^3), GF(1, order=2^3), GF(0, order=2^3)]\n",
      "Riga :  [6 6 0 3]\n",
      "Tipo riga:  <class 'galois.GF(2^3)'>\n",
      "Somma:  7\n",
      "Tipo somma:  <class 'galois.GF(2^3)'>\n",
      "[GF(5, order=2^3), GF(1, order=2^3), GF(7, order=2^3)]\n"
     ]
    }
   ],
   "source": [
    "#creo un thread per ogni colonna\n",
    "for indice_riga in range(A_primo.shape[0]):\n",
    "    t = threading.Thread(target = somma_riga, args = (A_primo, indice_riga))\n",
    "    threads_righe.append(t)\n",
    "    t.start() #avvio il thread\n",
    "\n",
    "#aspetto il risultato di tutti i threads\n",
    "for t in threads_righe:\n",
    "    t.join()\n"
   ]
  },
  {
   "cell_type": "code",
   "execution_count": 48,
   "metadata": {},
   "outputs": [
    {
     "name": "stdout",
     "output_type": "stream",
     "text": [
      "\n",
      "Somma degli elementi di ciascuna riga:  [GF(5, order=2^3), GF(1, order=2^3), GF(7, order=2^3)]\n",
      "\n",
      " Elementi primi estratti:  [0, 0, 0, 0]\n",
      "\n",
      " Elementi secondi estratti:  [0, 0, 0, 0]\n"
     ]
    }
   ],
   "source": [
    "print (\"\\nSomma degli elementi di ciascuna riga: \", somme_rig)\n",
    "print (\"\\n Elementi primi estratti: \", primi_colonne)\n",
    "print (\"\\n Elementi secondi estratti: \", secondi_colonne)"
   ]
  },
  {
   "cell_type": "code",
   "execution_count": 49,
   "metadata": {},
   "outputs": [
    {
     "name": "stdout",
     "output_type": "stream",
     "text": [
      "[[1 7 0 1]\n",
      " [0 4 5 4]\n",
      " [6 6 0 3]]\n"
     ]
    }
   ],
   "source": [
    "indici_ordinati = np.argsort(somme_rig)\n",
    "A_canonica_righe = A_primo[indici_ordinati, :]\n",
    "\n",
    "print(A_canonica_righe)"
   ]
  },
  {
   "cell_type": "code",
   "execution_count": 50,
   "metadata": {},
   "outputs": [
    {
     "name": "stdout",
     "output_type": "stream",
     "text": [
      "[[0 1 1 7]\n",
      " [5 0 4 4]\n",
      " [0 6 3 6]]\n"
     ]
    }
   ],
   "source": [
    "for indice_colonna in range(A_primo.shape[1]):\n",
    "    p = threading.Thread(target = estrai_da_colonna, args = (A_canonica_righe, indice_colonna))\n",
    "    threds_colonne.append(p)\n",
    "    p.start()\n",
    "\n",
    "for p in threds_colonne:\n",
    "    p.join()\n",
    "\n",
    "indici_ordinati_col = np.argsort(primi_colonne)\n",
    "\n",
    "\n",
    "for idx in indici_ordinati_col:\n",
    "    colonne_finali.append((primi_colonne[idx], secondi_colonne[idx], idx))\n",
    "\n",
    "colonne_finali.sort(key=lambda x: (x[0], x[1]))\n",
    "\n",
    "A_CF = A_canonica_righe[:, [col[2] for col in colonne_finali]]\n",
    "\n",
    "print(A_CF)"
   ]
  }
 ],
 "metadata": {
  "kernelspec": {
   "display_name": ".venv",
   "language": "python",
   "name": "python3"
  },
  "language_info": {
   "codemirror_mode": {
    "name": "ipython",
    "version": 3
   },
   "file_extension": ".py",
   "mimetype": "text/x-python",
   "name": "python",
   "nbconvert_exporter": "python",
   "pygments_lexer": "ipython3",
   "version": "3.11.2"
  }
 },
 "nbformat": 4,
 "nbformat_minor": 2
}
