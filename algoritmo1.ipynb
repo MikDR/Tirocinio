{
 "cells": [
  {
   "cell_type": "code",
   "execution_count": 426,
   "metadata": {},
   "outputs": [
    {
     "name": "stdout",
     "output_type": "stream",
     "text": [
      "Requirement already satisfied: galois in ./.venv/lib/python3.11/site-packages (0.4.2)\n",
      "Requirement already satisfied: numpy<2.2,>=1.21.0 in ./.venv/lib/python3.11/site-packages (from galois) (2.0.2)\n",
      "Requirement already satisfied: numba<0.61,>=0.55 in ./.venv/lib/python3.11/site-packages (from galois) (0.60.0)\n",
      "Requirement already satisfied: typing-extensions>=4.0.0 in ./.venv/lib/python3.11/site-packages (from galois) (4.12.2)\n",
      "Requirement already satisfied: llvmlite<0.44,>=0.43.0dev0 in ./.venv/lib/python3.11/site-packages (from numba<0.61,>=0.55->galois) (0.43.0)\n",
      "Note: you may need to restart the kernel to use updated packages.\n"
     ]
    }
   ],
   "source": [
    "pip install galois"
   ]
  },
  {
   "cell_type": "code",
   "execution_count": 427,
   "metadata": {},
   "outputs": [],
   "source": [
    "import galois\n",
    "import numpy as np"
   ]
  },
  {
   "cell_type": "code",
   "execution_count": 428,
   "metadata": {},
   "outputs": [],
   "source": [
    "#definisco un campo di Galois come nell'esempio \n",
    "field = galois.GF(2**3)"
   ]
  },
  {
   "cell_type": "code",
   "execution_count": 429,
   "metadata": {},
   "outputs": [],
   "source": [
    "#definisco una matrice k x (n-k) dove n-k = 4\n",
    "k = 3 #le righe\n",
    "n_k = 4 #le colonne"
   ]
  },
  {
   "cell_type": "code",
   "execution_count": 430,
   "metadata": {},
   "outputs": [
    {
     "name": "stdout",
     "output_type": "stream",
     "text": [
      "[[4 1 7 5]\n",
      " [2 4 6 1]\n",
      " [5 0 5 1]]\n"
     ]
    }
   ],
   "source": [
    "A = field.Random((k, n_k))\n",
    "print(A)"
   ]
  },
  {
   "cell_type": "code",
   "execution_count": 431,
   "metadata": {},
   "outputs": [],
   "source": [
    "matrice_bin1 = np.array([\n",
    "    [0, 0, 1],\n",
    "    [1, 0, 0],\n",
    "    [0, 1, 0]\n",
    "])\n",
    "\n",
    "matrice_bin1 = field(matrice_bin1)\n",
    "\n",
    "matrice_bin2 = np.array([\n",
    "    [1, 0, 0, 0],\n",
    "    [0, 0, 1, 0],\n",
    "    [0, 0, 0, 1],\n",
    "    [0, 1, 0, 0]\n",
    "])\n",
    "\n",
    "matrice_bin2 = field(matrice_bin2)"
   ]
  },
  {
   "cell_type": "code",
   "execution_count": 432,
   "metadata": {},
   "outputs": [
    {
     "name": "stdout",
     "output_type": "stream",
     "text": [
      "[[5 0 5 1]\n",
      " [4 1 7 5]\n",
      " [2 4 6 1]]\n"
     ]
    }
   ],
   "source": [
    "A_primo_intermedio = field(np.dot(matrice_bin1, A))\n",
    "print(A_primo_intermedio)"
   ]
  },
  {
   "cell_type": "code",
   "execution_count": 433,
   "metadata": {},
   "outputs": [
    {
     "name": "stdout",
     "output_type": "stream",
     "text": [
      "[[5 1 0 5]\n",
      " [4 5 1 7]\n",
      " [2 1 4 6]]\n"
     ]
    }
   ],
   "source": [
    "A_primo = field(np.dot(A_primo_intermedio, matrice_bin2))\n",
    "print(A_primo)"
   ]
  },
  {
   "cell_type": "code",
   "execution_count": 434,
   "metadata": {},
   "outputs": [],
   "source": [
    "import threading"
   ]
  },
  {
   "cell_type": "code",
   "execution_count": 435,
   "metadata": {},
   "outputs": [],
   "source": [
    "#qui in accordo con slide 18 articolo devo ordinare la matrice A e A_primo per righe e colonne, ordinamento per riga \n",
    "#è dato dalla somma delle righe in ordine decrescente, mentre per colonna in ordine numerico del primo elemento e in caso di \n",
    "#parità del secondo e così via\n",
    "\n",
    "#lista per conservare somme delle righe, inizializzata con gli zeri\n",
    "somme_rig = [field(0)] * A_primo.shape[0]\n",
    "primi_colonne = [0] * A_primo.shape[1]\n",
    "secondi_colonne = [0] * A_primo.shape[1]\n",
    "\n",
    "#creo il lock per evitare conglitti nell'aggiornamento\n",
    "lock = threading.Lock()\n",
    "\n",
    "#funzione per somma elementi nella colonna\n",
    "def somma_riga(matrice, indice_riga):\n",
    "    riga = matrice[indice_riga, :]\n",
    "    print(\"Primo print: \", riga) #questi vanno eliminati poi\n",
    "    print(\"Secondo print: \", type(riga))\n",
    "    somma = np.sum(riga)\n",
    "    print(\"Terzo print: \", somma) #questi vanno eliminati poi\n",
    "    print(\"Quarto print: \",type(somma))\n",
    "    with lock: #vado ad usare il lock\n",
    "        somme_rig[indice_riga] = somma\n",
    "        print(somme_rig)\n",
    "\n",
    "def estrai_da_colonna(matrice, indice_colonna):\n",
    "    colonna  = matrice[:, indice_colonna]\n",
    "    with lock:\n",
    "        primi_colonne[indice_colonna] = colonna[0]\n",
    "        secondi_colonne[indice_colonna] = colonna[1]\n"
   ]
  },
  {
   "cell_type": "code",
   "execution_count": 436,
   "metadata": {},
   "outputs": [],
   "source": [
    "threads_righe = []\n",
    "threds_colonne = []\n",
    "colonne_finali = []"
   ]
  },
  {
   "cell_type": "code",
   "execution_count": 437,
   "metadata": {},
   "outputs": [
    {
     "name": "stdout",
     "output_type": "stream",
     "text": [
      "<Thread(Thread-244 (somma_riga), initial)>\n",
      "Primo print:  [5 1 0 5]\n",
      "Secondo print:  <class 'galois.GF(2^3)'>\n",
      "<Thread(Thread-245 (somma_riga), initial)>\n",
      "Terzo print:  [5 1 0 5]\n",
      "Quarto print:  <class 'galois.GF(2^3)'>\n",
      "[GF([5, 1, 0, 5], order=2^3), GF(0, order=2^3), GF(0, order=2^3)]\n",
      "Primo print:  [4 5 1 7]\n",
      "Secondo print:  <class 'galois.GF(2^3)'>\n",
      "Terzo print:  [4 5 1 7]\n",
      "Quarto print:  <class 'galois.GF(2^3)'>\n",
      "[GF([5, 1, 0, 5], order=2^3), GF([4, 5, 1, 7], order=2^3), GF(0, order=2^3)]\n",
      "<Thread(Thread-246 (somma_riga), initial)>\n",
      "Primo print:  [2 1 4 6]\n",
      "Secondo print:  <class 'galois.GF(2^3)'>\n",
      "Terzo print:  [2 1 4 6]\n",
      "Quarto print:  <class 'galois.GF(2^3)'>\n",
      "[GF([5, 1, 0, 5], order=2^3), GF([4, 5, 1, 7], order=2^3), GF([2, 1, 4, 6], order=2^3)]\n"
     ]
    }
   ],
   "source": [
    "#creo un thread per ogni colonna\n",
    "for indice_riga in range(A_primo.shape[0]):\n",
    "    t = threading.Thread(target = somma_riga, args = (A_primo, indice_riga))\n",
    "    print(t)\n",
    "    threads_righe.append(t)\n",
    "    t.start() #avvio il thread\n",
    "\n",
    "#aspetto il risultato di tutti i threads\n",
    "for t in threads_righe:\n",
    "    t.join()\n"
   ]
  },
  {
   "cell_type": "code",
   "execution_count": 438,
   "metadata": {},
   "outputs": [
    {
     "name": "stdout",
     "output_type": "stream",
     "text": [
      "\n",
      "Somma degli elementi di ciascuna riga:  [GF([5, 1, 0, 5], order=2^3), GF([4, 5, 1, 7], order=2^3), GF([2, 1, 4, 6], order=2^3)]\n",
      "\n",
      " Elementi primi estratti:  [0, 0, 0, 0]\n",
      "\n",
      " Elementi secondi estratti:  [0, 0, 0, 0]\n"
     ]
    }
   ],
   "source": [
    "print (\"\\nSomma degli elementi di ciascuna riga: \", somme_rig)\n",
    "print (\"\\n Elementi primi estratti: \", primi_colonne)\n",
    "print (\"\\n Elementi secondi estratti: \", secondi_colonne)"
   ]
  },
  {
   "cell_type": "code",
   "execution_count": 439,
   "metadata": {},
   "outputs": [
    {
     "ename": "IndexError",
     "evalue": "index 3 is out of bounds for axis 0 with size 3",
     "output_type": "error",
     "traceback": [
      "\u001b[0;31m---------------------------------------------------------------------------\u001b[0m",
      "\u001b[0;31mIndexError\u001b[0m                                Traceback (most recent call last)",
      "Cell \u001b[0;32mIn[439], line 2\u001b[0m\n\u001b[1;32m      1\u001b[0m indici_ordinati \u001b[38;5;241m=\u001b[39m np\u001b[38;5;241m.\u001b[39margsort(somme_rig)\n\u001b[0;32m----> 2\u001b[0m A_canonica_righe \u001b[38;5;241m=\u001b[39m \u001b[43mA_primo\u001b[49m\u001b[43m[\u001b[49m\u001b[43mindici_ordinati\u001b[49m\u001b[43m,\u001b[49m\u001b[43m \u001b[49m\u001b[43m:\u001b[49m\u001b[43m]\u001b[49m\n\u001b[1;32m      4\u001b[0m \u001b[38;5;28mprint\u001b[39m(A_canonica_righe)\n",
      "File \u001b[0;32m~/Desktop/Tirocinio/.venv/lib/python3.11/site-packages/galois/_domains/_array.py:418\u001b[0m, in \u001b[0;36mArray.__getitem__\u001b[0;34m(self, key)\u001b[0m\n\u001b[1;32m    413\u001b[0m \u001b[38;5;28;01mdef\u001b[39;00m \u001b[38;5;21m__getitem__\u001b[39m(\u001b[38;5;28mself\u001b[39m, key):\n\u001b[1;32m    414\u001b[0m \u001b[38;5;250m    \u001b[39m\u001b[38;5;124;03m\"\"\"\u001b[39;00m\n\u001b[1;32m    415\u001b[0m \u001b[38;5;124;03m    Ensure that slices that return a single value return a 0-D Galois field array and not a single integer. This\u001b[39;00m\n\u001b[1;32m    416\u001b[0m \u001b[38;5;124;03m    ensures subsequent arithmetic with the finite field scalar works properly.\u001b[39;00m\n\u001b[1;32m    417\u001b[0m \u001b[38;5;124;03m    \"\"\"\u001b[39;00m\n\u001b[0;32m--> 418\u001b[0m     item \u001b[38;5;241m=\u001b[39m \u001b[38;5;28;43msuper\u001b[39;49m\u001b[43m(\u001b[49m\u001b[43m)\u001b[49m\u001b[38;5;241;43m.\u001b[39;49m\u001b[38;5;21;43m__getitem__\u001b[39;49m\u001b[43m(\u001b[49m\u001b[43mkey\u001b[49m\u001b[43m)\u001b[49m\n\u001b[1;32m    419\u001b[0m     \u001b[38;5;28;01mif\u001b[39;00m np\u001b[38;5;241m.\u001b[39misscalar(item):\n\u001b[1;32m    420\u001b[0m         item \u001b[38;5;241m=\u001b[39m \u001b[38;5;28mself\u001b[39m\u001b[38;5;241m.\u001b[39m\u001b[38;5;18m__class__\u001b[39m(item, dtype\u001b[38;5;241m=\u001b[39m\u001b[38;5;28mself\u001b[39m\u001b[38;5;241m.\u001b[39mdtype)\n",
      "\u001b[0;31mIndexError\u001b[0m: index 3 is out of bounds for axis 0 with size 3"
     ]
    }
   ],
   "source": [
    "indici_ordinati = np.argsort(somme_rig)\n",
    "A_canonica_righe = A_primo[indici_ordinati, :]\n",
    "\n",
    "print(A_canonica_righe)"
   ]
  },
  {
   "cell_type": "code",
   "execution_count": null,
   "metadata": {},
   "outputs": [
    {
     "name": "stdout",
     "output_type": "stream",
     "text": [
      "[[0 1 5 5]\n",
      " [5 6 6 7]\n",
      " [4 1 2 4]]\n"
     ]
    }
   ],
   "source": [
    "for indice_colonna in range(A_primo.shape[1]):\n",
    "    p = threading.Thread(target = estrai_da_colonna, args = (A_canonica_righe, indice_colonna))\n",
    "    threds_colonne.append(p)\n",
    "    p.start()\n",
    "\n",
    "for p in threds_colonne:\n",
    "    p.join()\n",
    "\n",
    "indici_ordinati_col = np.argsort(primi_colonne)\n",
    "\n",
    "\n",
    "for idx in indici_ordinati_col:\n",
    "    colonne_finali.append((primi_colonne[idx], secondi_colonne[idx], idx))\n",
    "\n",
    "colonne_finali.sort(key=lambda x: (x[0], x[1]))\n",
    "\n",
    "A_CF = A_canonica_righe[:, [col[2] for col in colonne_finali]]\n",
    "\n",
    "print(A_CF)"
   ]
  }
 ],
 "metadata": {
  "kernelspec": {
   "display_name": ".venv",
   "language": "python",
   "name": "python3"
  },
  "language_info": {
   "codemirror_mode": {
    "name": "ipython",
    "version": 3
   },
   "file_extension": ".py",
   "mimetype": "text/x-python",
   "name": "python",
   "nbconvert_exporter": "python",
   "pygments_lexer": "ipython3",
   "version": "3.11.2"
  }
 },
 "nbformat": 4,
 "nbformat_minor": 2
}
