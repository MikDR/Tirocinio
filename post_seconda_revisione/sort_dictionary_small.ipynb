{
 "cells": [
  {
   "cell_type": "code",
   "execution_count": 1,
   "metadata": {},
   "outputs": [
    {
     "name": "stdout",
     "output_type": "stream",
     "text": [
      "/bin/bash: line 1: /home/michele/Desktop/Tirocinio_giusto/Tirocinio/.venv/bin/pip: cannot execute: required file not found\n"
     ]
    },
    {
     "name": "stdout",
     "output_type": "stream",
     "text": [
      "/bin/bash: line 1: /home/michele/Desktop/Tirocinio_giusto/Tirocinio/.venv/bin/pip: cannot execute: required file not found\n"
     ]
    }
   ],
   "source": [
    "!pip install galois\n",
    "!pip install scipy"
   ]
  },
  {
   "cell_type": "code",
   "execution_count": 3,
   "metadata": {},
   "outputs": [],
   "source": [
    "import galois\n",
    "import numpy as np\n",
    "import time\n",
    "import os\n",
    "from scipy import stats"
   ]
  },
  {
   "cell_type": "code",
   "execution_count": 4,
   "metadata": {},
   "outputs": [],
   "source": [
    "#definisco un campo di Galois come nell'esempio \n",
    "field = galois.GF(8)"
   ]
  },
  {
   "cell_type": "code",
   "execution_count": 5,
   "metadata": {},
   "outputs": [],
   "source": [
    "#definisco una matrice k x (n-k)\n",
    "k = 3 #le righe\n",
    "n_k = 4 #le colonne\n",
    "\n",
    "#N.B: Less usa q = dimensione campo: 127; k = 126; n = 252 visto da pdf myLESS_CF pagina 38 di 45"
   ]
  },
  {
   "cell_type": "code",
   "execution_count": 6,
   "metadata": {},
   "outputs": [],
   "source": [
    "#questa è con l'esempio di 4.3\n",
    "A = field([[6, 6, 3, 0],\n",
    "           [7, 5, 0, 7],\n",
    "           [5, 0, 6, 1]])"
   ]
  },
  {
   "cell_type": "code",
   "execution_count": 14,
   "metadata": {},
   "outputs": [
    {
     "name": "stdout",
     "output_type": "stream",
     "text": [
      "[[2 2 7 1]\n",
      " [7 6 0 0]\n",
      " [4 2 7 2]]\n"
     ]
    }
   ],
   "source": [
    "A = field(np.random.randint(0, field.order, size=(k, n_k)))\n",
    "print(A)"
   ]
  },
  {
   "cell_type": "code",
   "execution_count": 15,
   "metadata": {},
   "outputs": [],
   "source": [
    "matrix_bin1 = np.array([\n",
    "    [0, 0, 1],\n",
    "    [1, 0, 0],\n",
    "    [0, 1, 0]\n",
    "])\n",
    "\n",
    "matrix_bin1 = field(matrix_bin1)\n",
    "\n",
    "matrix_bin2 = np.array([\n",
    "    [1, 0, 0, 0],\n",
    "    [0, 0, 1, 0],\n",
    "    [0, 0, 0, 1],\n",
    "    [0, 1, 0, 0]\n",
    "])\n",
    "\n",
    "matrix_bin2 = field(matrix_bin2)"
   ]
  },
  {
   "cell_type": "code",
   "execution_count": 16,
   "metadata": {},
   "outputs": [
    {
     "name": "stdout",
     "output_type": "stream",
     "text": [
      "[[4 2 2 7]\n",
      " [2 1 2 7]\n",
      " [7 0 6 0]]\n"
     ]
    }
   ],
   "source": [
    "A_primo = field(matrix_bin1 @ A @ matrix_bin2)\n",
    "print(A_primo)"
   ]
  },
  {
   "cell_type": "code",
   "execution_count": 8,
   "metadata": {},
   "outputs": [],
   "source": [
    "#number of iteration for Montecarlo simulatiom\n",
    "num_iterazioni = 2500"
   ]
  },
  {
   "cell_type": "code",
   "execution_count": 55,
   "metadata": {},
   "outputs": [],
   "source": [
    "# order by count number of 0, 1, ..., q in a vector (dictionary). A multiset1 < multiset2 if number of 0 > number of 0 of \n",
    "# second multiset. If the number of 0 is the same check number of 1 and so on\n",
    "def order_row(matrix):\n",
    "    operations = 0\n",
    "    vector_of_counts = []\n",
    "    matrix_int = matrix.view(np.ndarray)  \n",
    "    for row in matrix_int:\n",
    "        counts = [0] * field.order \n",
    "        for value in row:\n",
    "            counts[value] += 1\n",
    "            operations += 1\n",
    "        #print(counts)\n",
    "        vector_of_counts.append(counts)\n",
    "        #print(vector_of_counts)\n",
    "    #print(vector_of_counts)\n",
    "    vector_of_counts = np.array(vector_of_counts)\n",
    "    # Ordina la lista di dizionari usando la chiave personalizzata\n",
    "    sorted_index = np.lexsort([vector_of_counts[:, i] for i in range(field.order-1, -1, -1)])[::-1]\n",
    "\n",
    "    operations1 = 0\n",
    "    vector_of_counts1 = []\n",
    "    matrix_int = matrix.view(np.ndarray)  \n",
    "    for row in matrix_int:\n",
    "        counts = [0] * 3\n",
    "        for value in row:\n",
    "            #print(value)\n",
    "            #print(value < 3)\n",
    "            if value < 3:\n",
    "                counts[value] += 1\n",
    "                operations1 += 1\n",
    "        #print(counts)\n",
    "        vector_of_counts1.append(counts)\n",
    "        #print(vector_of_counts1)\n",
    "    vector_of_counts1 = np.array(vector_of_counts1)\n",
    "    # Ordina la lista di dizionari usando la chiave personalizzata\n",
    "    sorted_index1 = np.lexsort([vector_of_counts1[:, i] for i in range(3-1, -1, -1)])[::-1]\n",
    "    print(\"Ecco qui\\n\",matrix[sorted_index], matrix[sorted_index1])\n",
    "    \n",
    "    return matrix[sorted_index]\n",
    "\n",
    "# order column as always\n",
    "def sort_by_column(matrix, rows, num_swap_columns):\n",
    "    print(\"Funzione ordina per colonna\")\n",
    "    #tengo posizioni originali per confrontarle con quelle cambiate e quindi vedere quanti swap di riga ho fatto\n",
    "    initial_position = np.arange(matrix.shape[1])\n",
    "    \n",
    "    # Trova gli indici di ordinamento usando np.lexsort sulle righe, se c'è conflitto passa a el seconda riga\n",
    "    sorting_indices = np.lexsort([matrix[row, :] for row in rows[::-1]])\n",
    "        \n",
    "    # Conta gli swap solo quando la posizione delle colonne cambia\n",
    "    for i, index in enumerate(sorting_indices):\n",
    "        if index != initial_position[i]:\n",
    "            num_swap_columns += 1\n",
    "    \n",
    "    #riordina la matrice in base agli indici trovati\n",
    "    sorted_matrix = matrix[:, sorting_indices]\n",
    "    return sorted_matrix, num_swap_columns\n",
    "\n",
    "def algorithm_test(matrix1, matrix2):\n",
    "    row1_sort = order_row(matrix1)\n",
    "    print(\"Ordinato\\n\", row1_sort)\n",
    "    matrix1_sorted = sort_by_column(row1_sort, range(k), 0)\n",
    "    print(matrix1_sorted)\n",
    "\n",
    "    row2_sort = order_row(matrix2)\n",
    "    print(row2_sort)\n",
    "    matrix2_sorted = sort_by_column(row2_sort, range(k), 0)\n",
    "    print(matrix2_sorted)\n",
    "\n",
    "    #[0] because retur an array with 2 elements\n",
    "    return np.array_equal(matrix1_sorted[0], matrix2_sorted[0])\n",
    "\n"
   ]
  },
  {
   "cell_type": "code",
   "execution_count": 56,
   "metadata": {},
   "outputs": [
    {
     "name": "stdout",
     "output_type": "stream",
     "text": [
      "Ecco qui\n",
      " [[7 6 0 0]\n",
      " [2 2 7 1]\n",
      " [4 2 7 2]] [[7 6 0 0]\n",
      " [2 2 7 1]\n",
      " [4 2 7 2]]\n",
      "Ordinato\n",
      " [[7 6 0 0]\n",
      " [2 2 7 1]\n",
      " [4 2 7 2]]\n",
      "Funzione ordina per colonna\n",
      "(GF([[0, 0, 6, 7],\n",
      "    [1, 7, 2, 2],\n",
      "    [2, 7, 2, 4]], order=2^3), 4)\n",
      "Ecco qui\n",
      " [[7 0 6 0]\n",
      " [2 1 2 7]\n",
      " [4 2 2 7]] [[7 0 6 0]\n",
      " [2 1 2 7]\n",
      " [4 2 2 7]]\n",
      "[[7 0 6 0]\n",
      " [2 1 2 7]\n",
      " [4 2 2 7]]\n",
      "Funzione ordina per colonna\n",
      "(GF([[0, 0, 6, 7],\n",
      "    [1, 7, 2, 2],\n",
      "    [2, 7, 2, 4]], order=2^3), 3)\n"
     ]
    },
    {
     "data": {
      "text/plain": [
       "True"
      ]
     },
     "execution_count": 56,
     "metadata": {},
     "output_type": "execute_result"
    }
   ],
   "source": [
    "algorithm_test(A, A_primo)"
   ]
  }
 ],
 "metadata": {
  "kernelspec": {
   "display_name": ".venv",
   "language": "python",
   "name": "python3"
  },
  "language_info": {
   "codemirror_mode": {
    "name": "ipython",
    "version": 3
   },
   "file_extension": ".py",
   "mimetype": "text/x-python",
   "name": "python",
   "nbconvert_exporter": "python",
   "pygments_lexer": "ipython3",
   "version": "3.11.2"
  }
 },
 "nbformat": 4,
 "nbformat_minor": 2
}
